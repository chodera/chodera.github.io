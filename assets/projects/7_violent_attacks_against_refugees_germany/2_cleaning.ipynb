{
 "cells": [
  {
   "cell_type": "markdown",
   "metadata": {},
   "source": [
    "# Exploring and cleaning the data from \"Chronik flüchtlingsfeindlicher Vorfälle\""
   ]
  },
  {
   "cell_type": "code",
   "execution_count": 1,
   "metadata": {},
   "outputs": [],
   "source": [
    "import numpy as np\n",
    "import pandas as pd"
   ]
  },
  {
   "cell_type": "markdown",
   "metadata": {},
   "source": [
    "## Load data and get first overview"
   ]
  },
  {
   "cell_type": "markdown",
   "metadata": {},
   "source": [
    "Check the data set."
   ]
  },
  {
   "cell_type": "code",
   "execution_count": 2,
   "metadata": {
    "scrolled": true
   },
   "outputs": [],
   "source": [
    "df = pd.read_csv('data/mut_gegen_rechte_gewalt.csv')"
   ]
  },
  {
   "cell_type": "code",
   "execution_count": 3,
   "metadata": {},
   "outputs": [
    {
     "name": "stdout",
     "output_type": "stream",
     "text": [
      "<class 'pandas.core.frame.DataFrame'>\n",
      "RangeIndex: 9012 entries, 0 to 9011\n",
      "Data columns (total 8 columns):\n",
      "date           9012 non-null object\n",
      "category       9012 non-null object\n",
      "city           9012 non-null object\n",
      "bundesland     9012 non-null object\n",
      "casualties     611 non-null object\n",
      "description    9012 non-null object\n",
      "source         8258 non-null object\n",
      "source_url     8259 non-null object\n",
      "dtypes: object(8)\n",
      "memory usage: 563.3+ KB\n"
     ]
    }
   ],
   "source": [
    "df.info()"
   ]
  },
  {
   "cell_type": "code",
   "execution_count": 4,
   "metadata": {
    "scrolled": false
   },
   "outputs": [
    {
     "data": {
      "text/html": [
       "<div>\n",
       "<style scoped>\n",
       "    .dataframe tbody tr th:only-of-type {\n",
       "        vertical-align: middle;\n",
       "    }\n",
       "\n",
       "    .dataframe tbody tr th {\n",
       "        vertical-align: top;\n",
       "    }\n",
       "\n",
       "    .dataframe thead th {\n",
       "        text-align: right;\n",
       "    }\n",
       "</style>\n",
       "<table border=\"1\" class=\"dataframe\">\n",
       "  <thead>\n",
       "    <tr style=\"text-align: right;\">\n",
       "      <th></th>\n",
       "      <th>date</th>\n",
       "      <th>category</th>\n",
       "      <th>city</th>\n",
       "      <th>bundesland</th>\n",
       "      <th>casualties</th>\n",
       "      <th>description</th>\n",
       "      <th>source</th>\n",
       "      <th>source_url</th>\n",
       "    </tr>\n",
       "  </thead>\n",
       "  <tbody>\n",
       "    <tr>\n",
       "      <th>0</th>\n",
       "      <td>17.05.2019</td>\n",
       "      <td>Tätlicher Übergriff/Körperverletzung</td>\n",
       "      <td>Prenzlau</td>\n",
       "      <td>Brandenburg</td>\n",
       "      <td>1Verletzte_r</td>\n",
       "      <td>Zwei Deutsche haben am Abend zunächst neben ei...</td>\n",
       "      <td>Nordkurier</td>\n",
       "      <td>{'https://www.nordkurier.de/uckermark/junge-ma...</td>\n",
       "    </tr>\n",
       "    <tr>\n",
       "      <th>1</th>\n",
       "      <td>04.05.2019</td>\n",
       "      <td>Tätlicher Übergriff/Körperverletzung</td>\n",
       "      <td>Querfurt</td>\n",
       "      <td>Sachsen-Anhalt</td>\n",
       "      <td>NaN</td>\n",
       "      <td>Ein 21-jähriger aus Syrien wurde in der Nacht ...</td>\n",
       "      <td>Mitteldeutsche Zeitung</td>\n",
       "      <td>{'https://www.mz-web.de/saalekreis/staatsschut...</td>\n",
       "    </tr>\n",
       "    <tr>\n",
       "      <th>2</th>\n",
       "      <td>01.05.2019</td>\n",
       "      <td>Sonstige Angriffe</td>\n",
       "      <td>Kirchheim</td>\n",
       "      <td>Hessen</td>\n",
       "      <td>NaN</td>\n",
       "      <td>Unbekannte haben in der Nacht Eier gegen die F...</td>\n",
       "      <td>Süddeutsche Zeitung</td>\n",
       "      <td>{'https://www.sueddeutsche.de/muenchen/staatss...</td>\n",
       "    </tr>\n",
       "    <tr>\n",
       "      <th>3</th>\n",
       "      <td>31.03.2019</td>\n",
       "      <td>Verdachtsfall</td>\n",
       "      <td>Lübeck</td>\n",
       "      <td>Schleswig-Holstein</td>\n",
       "      <td>1Verletzte_r</td>\n",
       "      <td>Zwei unbekannte Männer haben einen 27-jährigen...</td>\n",
       "      <td>n-tv</td>\n",
       "      <td>{'https://www.n-tv.de/regionales/hamburg-und-s...</td>\n",
       "    </tr>\n",
       "    <tr>\n",
       "      <th>4</th>\n",
       "      <td>02.03.2019</td>\n",
       "      <td>Tätlicher Übergriff/Körperverletzung</td>\n",
       "      <td>Leipzig</td>\n",
       "      <td>Sachsen</td>\n",
       "      <td>1Verletzte_r</td>\n",
       "      <td>Eine Gruppe von acht Männern hat am Nachmittag...</td>\n",
       "      <td>Peiner Allgemeine</td>\n",
       "      <td>{'http://www.paz-online.de/Nachrichten/Panoram...</td>\n",
       "    </tr>\n",
       "  </tbody>\n",
       "</table>\n",
       "</div>"
      ],
      "text/plain": [
       "         date                              category       city  \\\n",
       "0  17.05.2019  Tätlicher Übergriff/Körperverletzung   Prenzlau   \n",
       "1  04.05.2019  Tätlicher Übergriff/Körperverletzung   Querfurt   \n",
       "2  01.05.2019                     Sonstige Angriffe  Kirchheim   \n",
       "3  31.03.2019                         Verdachtsfall     Lübeck   \n",
       "4  02.03.2019  Tätlicher Übergriff/Körperverletzung    Leipzig   \n",
       "\n",
       "           bundesland    casualties  \\\n",
       "0         Brandenburg  1Verletzte_r   \n",
       "1      Sachsen-Anhalt           NaN   \n",
       "2              Hessen           NaN   \n",
       "3  Schleswig-Holstein  1Verletzte_r   \n",
       "4             Sachsen  1Verletzte_r   \n",
       "\n",
       "                                         description                  source  \\\n",
       "0  Zwei Deutsche haben am Abend zunächst neben ei...              Nordkurier   \n",
       "1  Ein 21-jähriger aus Syrien wurde in der Nacht ...  Mitteldeutsche Zeitung   \n",
       "2  Unbekannte haben in der Nacht Eier gegen die F...     Süddeutsche Zeitung   \n",
       "3  Zwei unbekannte Männer haben einen 27-jährigen...                    n-tv   \n",
       "4  Eine Gruppe von acht Männern hat am Nachmittag...       Peiner Allgemeine   \n",
       "\n",
       "                                          source_url  \n",
       "0  {'https://www.nordkurier.de/uckermark/junge-ma...  \n",
       "1  {'https://www.mz-web.de/saalekreis/staatsschut...  \n",
       "2  {'https://www.sueddeutsche.de/muenchen/staatss...  \n",
       "3  {'https://www.n-tv.de/regionales/hamburg-und-s...  \n",
       "4  {'http://www.paz-online.de/Nachrichten/Panoram...  "
      ]
     },
     "execution_count": 4,
     "metadata": {},
     "output_type": "execute_result"
    }
   ],
   "source": [
    "df.head()"
   ]
  },
  {
   "cell_type": "markdown",
   "metadata": {},
   "source": [
    "## Data cleaning"
   ]
  },
  {
   "cell_type": "code",
   "execution_count": 5,
   "metadata": {
    "scrolled": false
   },
   "outputs": [
    {
     "data": {
      "text/plain": [
       "date           object\n",
       "category       object\n",
       "city           object\n",
       "bundesland     object\n",
       "casualties     object\n",
       "description    object\n",
       "source         object\n",
       "source_url     object\n",
       "dtype: object"
      ]
     },
     "execution_count": 5,
     "metadata": {},
     "output_type": "execute_result"
    }
   ],
   "source": [
    "df.dtypes"
   ]
  },
  {
   "cell_type": "markdown",
   "metadata": {},
   "source": [
    "### Date"
   ]
  },
  {
   "cell_type": "markdown",
   "metadata": {},
   "source": [
    "Change date column to datetime object."
   ]
  },
  {
   "cell_type": "code",
   "execution_count": 6,
   "metadata": {},
   "outputs": [],
   "source": [
    "df['date'] = pd.to_datetime(df['date'], format='%d.%m.%Y')"
   ]
  },
  {
   "cell_type": "code",
   "execution_count": 7,
   "metadata": {},
   "outputs": [],
   "source": [
    "df['day'] = df['date'].dt.day\n",
    "df['month'] = df['date'].dt.month\n",
    "df['year'] = df['date'].dt.year"
   ]
  },
  {
   "cell_type": "markdown",
   "metadata": {},
   "source": [
    "### Category"
   ]
  },
  {
   "cell_type": "code",
   "execution_count": 8,
   "metadata": {},
   "outputs": [
    {
     "data": {
      "text/plain": [
       "Sonstige Angriffe                       6611\n",
       "Tätlicher Übergriff/Körperverletzung    1482\n",
       "Kundgebung/Demo                          361\n",
       "Verdachtsfall                            286\n",
       "Brandanschlag                            272\n",
       "Name: category, dtype: int64"
      ]
     },
     "execution_count": 8,
     "metadata": {},
     "output_type": "execute_result"
    }
   ],
   "source": [
    "df['category'].value_counts()"
   ]
  },
  {
   "cell_type": "markdown",
   "metadata": {},
   "source": [
    "As the data has been scraped from a German website, the five category names are in German. We will replace the German categories with the English translation."
   ]
  },
  {
   "cell_type": "code",
   "execution_count": 9,
   "metadata": {},
   "outputs": [],
   "source": [
    "mapping_dict = {\n",
    "    'Tätlicher Übergriff/Körperverletzung': 'Assault and battery',\n",
    "    'Brandanschlag': 'Arson attack',\n",
    "    'Kundgebung/Demo': 'Rally/demonstration',\n",
    "    'Sonstige Angriffe': 'Other attacks',\n",
    "    'Verdachtsfall': 'Suspected case'\n",
    "}\n",
    "df['category'] = df['category'].map(mapping_dict)"
   ]
  },
  {
   "cell_type": "code",
   "execution_count": 10,
   "metadata": {
    "scrolled": false
   },
   "outputs": [
    {
     "data": {
      "text/plain": [
       "Other attacks          6611\n",
       "Assault and battery    1482\n",
       "Rally/demonstration     361\n",
       "Suspected case          286\n",
       "Arson attack            272\n",
       "Name: category, dtype: int64"
      ]
     },
     "execution_count": 10,
     "metadata": {},
     "output_type": "execute_result"
    }
   ],
   "source": [
    "df['category'].value_counts()"
   ]
  },
  {
   "cell_type": "markdown",
   "metadata": {},
   "source": [
    "### City"
   ]
  },
  {
   "cell_type": "code",
   "execution_count": 11,
   "metadata": {},
   "outputs": [
    {
     "data": {
      "text/plain": [
       "2505"
      ]
     },
     "execution_count": 11,
     "metadata": {},
     "output_type": "execute_result"
    }
   ],
   "source": [
    "df['city'].unique().shape[0]"
   ]
  },
  {
   "cell_type": "markdown",
   "metadata": {},
   "source": [
    "### Bundesland"
   ]
  },
  {
   "cell_type": "code",
   "execution_count": 12,
   "metadata": {},
   "outputs": [
    {
     "data": {
      "text/plain": [
       "16"
      ]
     },
     "execution_count": 12,
     "metadata": {},
     "output_type": "execute_result"
    }
   ],
   "source": [
    "df['bundesland'].unique().shape[0]"
   ]
  },
  {
   "cell_type": "markdown",
   "metadata": {},
   "source": [
    "### Casualties"
   ]
  },
  {
   "cell_type": "code",
   "execution_count": 13,
   "metadata": {
    "scrolled": true
   },
   "outputs": [
    {
     "data": {
      "text/plain": [
       "0    1Verletzte_r\n",
       "1             NaN\n",
       "2             NaN\n",
       "3    1Verletzte_r\n",
       "4    1Verletzte_r\n",
       "Name: casualties, dtype: object"
      ]
     },
     "execution_count": 13,
     "metadata": {},
     "output_type": "execute_result"
    }
   ],
   "source": [
    "df['casualties'].head()"
   ]
  },
  {
   "cell_type": "markdown",
   "metadata": {},
   "source": [
    "How many entries actually do contain casualty numbers?"
   ]
  },
  {
   "cell_type": "code",
   "execution_count": 14,
   "metadata": {
    "scrolled": true
   },
   "outputs": [
    {
     "data": {
      "text/plain": [
       "611"
      ]
     },
     "execution_count": 14,
     "metadata": {},
     "output_type": "execute_result"
    }
   ],
   "source": [
    "df[df['casualties'].notnull()].shape[0]"
   ]
  },
  {
   "cell_type": "markdown",
   "metadata": {},
   "source": [
    "There are only 611 entries which contain information on the number of casualties. I suppose this can be interpreted than in other cases there were (luckily) no casualties. \n",
    "\n",
    "Let's replace the string representation into numerical values by deleting the characters."
   ]
  },
  {
   "cell_type": "code",
   "execution_count": 15,
   "metadata": {},
   "outputs": [],
   "source": [
    "df['casualties'] = df['casualties'].str.replace(r' ?(Verletzte)(_r)?', '').astype(float)"
   ]
  },
  {
   "cell_type": "code",
   "execution_count": 16,
   "metadata": {
    "scrolled": true
   },
   "outputs": [
    {
     "data": {
      "text/plain": [
       "0    1.0\n",
       "1    NaN\n",
       "2    NaN\n",
       "3    1.0\n",
       "4    1.0\n",
       "Name: casualties, dtype: float64"
      ]
     },
     "execution_count": 16,
     "metadata": {},
     "output_type": "execute_result"
    }
   ],
   "source": [
    "df['casualties'].head()"
   ]
  },
  {
   "cell_type": "markdown",
   "metadata": {},
   "source": [
    "### Description"
   ]
  },
  {
   "cell_type": "code",
   "execution_count": 17,
   "metadata": {
    "scrolled": true
   },
   "outputs": [
    {
     "name": "stdout",
     "output_type": "stream",
     "text": [
      "Zwei Deutsche haben am Abend zunächst neben einer Asylunterkunft randaliert. Als Kinder, die in der Asylunterkunft leben, sie aufforderten, dies zu unterlassen, betraten die beiden 21- bzw. 23-Jährigen das Gelände der Unterkunft. Einer von ihnen zückte ein Messer und soll laut Polizei \"Stichbewegungen gegen einen tschetschenischen Bewohner ausgeführt haben. Bei der folgenden Rangelei verletzte sich der Tschetschene an der Hand, ein Deutscher erlitt Verletzungen am Bein und musste operiert werden\", so die Polizei weiter. Die Kriminalpolizei ermittelt.\n",
      "\n",
      "Ein 21-jähriger aus Syrien wurde in der Nacht aus einer Gruppe aus fünf oder sechs jungen Deutschen zunächst rassistisch beleidigt und dann auch geschlagen. Als ein 47-jähriger Zeuge dazwischengehen wollte, sollen ihn die Angreifer zurückgestoßen und am Fuß verletzt haben. Der 21-Jährige musste nicht behandelt werden. Die Täter flüchteten, der Staatsschutz ermittelt.\n",
      "\n",
      "Unbekannte haben in der Nacht Eier gegen die Fassade einer Asylunterkunft geworfen. Als ein Mitarbeiter des Sicherheitsdienstes die Täter ansprach, flüchteten sie.\n"
     ]
    }
   ],
   "source": [
    "print(*df['description'].head(3), sep='\\n\\n')"
   ]
  },
  {
   "cell_type": "markdown",
   "metadata": {},
   "source": [
    "### Source"
   ]
  },
  {
   "cell_type": "code",
   "execution_count": 18,
   "metadata": {},
   "outputs": [
    {
     "data": {
      "text/plain": [
       "0                Nordkurier\n",
       "1    Mitteldeutsche Zeitung\n",
       "2       Süddeutsche Zeitung\n",
       "3                      n-tv\n",
       "4         Peiner Allgemeine\n",
       "Name: source, dtype: object"
      ]
     },
     "execution_count": 18,
     "metadata": {},
     "output_type": "execute_result"
    }
   ],
   "source": [
    "df['source'].head()"
   ]
  },
  {
   "cell_type": "code",
   "execution_count": 19,
   "metadata": {},
   "outputs": [
    {
     "data": {
      "text/plain": [
       "596"
      ]
     },
     "execution_count": 19,
     "metadata": {},
     "output_type": "execute_result"
    }
   ],
   "source": [
    "df['source'].unique().shape[0]"
   ]
  },
  {
   "cell_type": "markdown",
   "metadata": {},
   "source": [
    "### Source url"
   ]
  },
  {
   "cell_type": "code",
   "execution_count": 20,
   "metadata": {
    "scrolled": true
   },
   "outputs": [
    {
     "name": "stdout",
     "output_type": "stream",
     "text": [
      "{'https://www.nordkurier.de/uckermark/junge-maenner-in-prenzlau-randalieren-1935542005.html'}\n",
      "{'https://www.mz-web.de/saalekreis/staatsschutz-ermittelt-junger-syrer-rassistisch-beschimpft-und-attackiert-32472432'}\n",
      "{'https://www.sueddeutsche.de/muenchen/staatsschutz-ermittelt-angriffe-auf-fluechtlinge-und-ein-drohbrief-1.4429977'}\n",
      "{'https://www.n-tv.de/regionales/hamburg-und-schleswig-holstein/Syrer-mit-Glasflasche-attackiert-Fremdenfeindliches-Motiv-article20957339.html'}\n",
      "{'http://www.paz-online.de/Nachrichten/Panorama/Auslaenderfeindlicher-Attacke-Acht-betrunkene-Maenner-verpruegeln-Asylbewerber'}\n"
     ]
    }
   ],
   "source": [
    "print(*df['source_url'].head(), sep='\\n')"
   ]
  },
  {
   "cell_type": "markdown",
   "metadata": {},
   "source": [
    "Delete the curly brackets:"
   ]
  },
  {
   "cell_type": "code",
   "execution_count": 21,
   "metadata": {},
   "outputs": [],
   "source": [
    "df['source_url'] = df['source_url'].str.replace(r\"(\\{')?('\\})?\", '')"
   ]
  },
  {
   "cell_type": "code",
   "execution_count": 22,
   "metadata": {},
   "outputs": [
    {
     "name": "stdout",
     "output_type": "stream",
     "text": [
      "https://www.nordkurier.de/uckermark/junge-maenner-in-prenzlau-randalieren-1935542005.html\n",
      "https://www.mz-web.de/saalekreis/staatsschutz-ermittelt-junger-syrer-rassistisch-beschimpft-und-attackiert-32472432\n",
      "https://www.sueddeutsche.de/muenchen/staatsschutz-ermittelt-angriffe-auf-fluechtlinge-und-ein-drohbrief-1.4429977\n",
      "https://www.n-tv.de/regionales/hamburg-und-schleswig-holstein/Syrer-mit-Glasflasche-attackiert-Fremdenfeindliches-Motiv-article20957339.html\n",
      "http://www.paz-online.de/Nachrichten/Panorama/Auslaenderfeindlicher-Attacke-Acht-betrunkene-Maenner-verpruegeln-Asylbewerber\n"
     ]
    }
   ],
   "source": [
    "print(*df['source_url'].head(), sep='\\n')"
   ]
  },
  {
   "cell_type": "markdown",
   "metadata": {},
   "source": [
    "### Final checkup"
   ]
  },
  {
   "cell_type": "code",
   "execution_count": 23,
   "metadata": {},
   "outputs": [
    {
     "data": {
      "text/plain": [
       "date           datetime64[ns]\n",
       "category               object\n",
       "city                   object\n",
       "bundesland             object\n",
       "casualties            float64\n",
       "description            object\n",
       "source                 object\n",
       "source_url             object\n",
       "day                     int64\n",
       "month                   int64\n",
       "year                    int64\n",
       "dtype: object"
      ]
     },
     "execution_count": 23,
     "metadata": {},
     "output_type": "execute_result"
    }
   ],
   "source": [
    "df.dtypes"
   ]
  },
  {
   "cell_type": "code",
   "execution_count": 24,
   "metadata": {},
   "outputs": [
    {
     "data": {
      "text/html": [
       "<div>\n",
       "<style scoped>\n",
       "    .dataframe tbody tr th:only-of-type {\n",
       "        vertical-align: middle;\n",
       "    }\n",
       "\n",
       "    .dataframe tbody tr th {\n",
       "        vertical-align: top;\n",
       "    }\n",
       "\n",
       "    .dataframe thead th {\n",
       "        text-align: right;\n",
       "    }\n",
       "</style>\n",
       "<table border=\"1\" class=\"dataframe\">\n",
       "  <thead>\n",
       "    <tr style=\"text-align: right;\">\n",
       "      <th></th>\n",
       "      <th>date</th>\n",
       "      <th>category</th>\n",
       "      <th>city</th>\n",
       "      <th>bundesland</th>\n",
       "      <th>casualties</th>\n",
       "      <th>description</th>\n",
       "      <th>source</th>\n",
       "      <th>source_url</th>\n",
       "      <th>day</th>\n",
       "      <th>month</th>\n",
       "      <th>year</th>\n",
       "    </tr>\n",
       "  </thead>\n",
       "  <tbody>\n",
       "    <tr>\n",
       "      <th>0</th>\n",
       "      <td>2019-05-17</td>\n",
       "      <td>Assault and battery</td>\n",
       "      <td>Prenzlau</td>\n",
       "      <td>Brandenburg</td>\n",
       "      <td>1.0</td>\n",
       "      <td>Zwei Deutsche haben am Abend zunächst neben ei...</td>\n",
       "      <td>Nordkurier</td>\n",
       "      <td>https://www.nordkurier.de/uckermark/junge-maen...</td>\n",
       "      <td>17</td>\n",
       "      <td>5</td>\n",
       "      <td>2019</td>\n",
       "    </tr>\n",
       "    <tr>\n",
       "      <th>1</th>\n",
       "      <td>2019-05-04</td>\n",
       "      <td>Assault and battery</td>\n",
       "      <td>Querfurt</td>\n",
       "      <td>Sachsen-Anhalt</td>\n",
       "      <td>NaN</td>\n",
       "      <td>Ein 21-jähriger aus Syrien wurde in der Nacht ...</td>\n",
       "      <td>Mitteldeutsche Zeitung</td>\n",
       "      <td>https://www.mz-web.de/saalekreis/staatsschutz-...</td>\n",
       "      <td>4</td>\n",
       "      <td>5</td>\n",
       "      <td>2019</td>\n",
       "    </tr>\n",
       "    <tr>\n",
       "      <th>2</th>\n",
       "      <td>2019-05-01</td>\n",
       "      <td>Other attacks</td>\n",
       "      <td>Kirchheim</td>\n",
       "      <td>Hessen</td>\n",
       "      <td>NaN</td>\n",
       "      <td>Unbekannte haben in der Nacht Eier gegen die F...</td>\n",
       "      <td>Süddeutsche Zeitung</td>\n",
       "      <td>https://www.sueddeutsche.de/muenchen/staatssch...</td>\n",
       "      <td>1</td>\n",
       "      <td>5</td>\n",
       "      <td>2019</td>\n",
       "    </tr>\n",
       "    <tr>\n",
       "      <th>3</th>\n",
       "      <td>2019-03-31</td>\n",
       "      <td>Suspected case</td>\n",
       "      <td>Lübeck</td>\n",
       "      <td>Schleswig-Holstein</td>\n",
       "      <td>1.0</td>\n",
       "      <td>Zwei unbekannte Männer haben einen 27-jährigen...</td>\n",
       "      <td>n-tv</td>\n",
       "      <td>https://www.n-tv.de/regionales/hamburg-und-sch...</td>\n",
       "      <td>31</td>\n",
       "      <td>3</td>\n",
       "      <td>2019</td>\n",
       "    </tr>\n",
       "    <tr>\n",
       "      <th>4</th>\n",
       "      <td>2019-03-02</td>\n",
       "      <td>Assault and battery</td>\n",
       "      <td>Leipzig</td>\n",
       "      <td>Sachsen</td>\n",
       "      <td>1.0</td>\n",
       "      <td>Eine Gruppe von acht Männern hat am Nachmittag...</td>\n",
       "      <td>Peiner Allgemeine</td>\n",
       "      <td>http://www.paz-online.de/Nachrichten/Panorama/...</td>\n",
       "      <td>2</td>\n",
       "      <td>3</td>\n",
       "      <td>2019</td>\n",
       "    </tr>\n",
       "  </tbody>\n",
       "</table>\n",
       "</div>"
      ],
      "text/plain": [
       "        date             category       city          bundesland  casualties  \\\n",
       "0 2019-05-17  Assault and battery   Prenzlau         Brandenburg         1.0   \n",
       "1 2019-05-04  Assault and battery   Querfurt      Sachsen-Anhalt         NaN   \n",
       "2 2019-05-01        Other attacks  Kirchheim              Hessen         NaN   \n",
       "3 2019-03-31       Suspected case     Lübeck  Schleswig-Holstein         1.0   \n",
       "4 2019-03-02  Assault and battery    Leipzig             Sachsen         1.0   \n",
       "\n",
       "                                         description                  source  \\\n",
       "0  Zwei Deutsche haben am Abend zunächst neben ei...              Nordkurier   \n",
       "1  Ein 21-jähriger aus Syrien wurde in der Nacht ...  Mitteldeutsche Zeitung   \n",
       "2  Unbekannte haben in der Nacht Eier gegen die F...     Süddeutsche Zeitung   \n",
       "3  Zwei unbekannte Männer haben einen 27-jährigen...                    n-tv   \n",
       "4  Eine Gruppe von acht Männern hat am Nachmittag...       Peiner Allgemeine   \n",
       "\n",
       "                                          source_url  day  month  year  \n",
       "0  https://www.nordkurier.de/uckermark/junge-maen...   17      5  2019  \n",
       "1  https://www.mz-web.de/saalekreis/staatsschutz-...    4      5  2019  \n",
       "2  https://www.sueddeutsche.de/muenchen/staatssch...    1      5  2019  \n",
       "3  https://www.n-tv.de/regionales/hamburg-und-sch...   31      3  2019  \n",
       "4  http://www.paz-online.de/Nachrichten/Panorama/...    2      3  2019  "
      ]
     },
     "execution_count": 24,
     "metadata": {},
     "output_type": "execute_result"
    }
   ],
   "source": [
    "df.head()"
   ]
  }
 ],
 "metadata": {
  "kernelspec": {
   "display_name": "Python 3",
   "language": "python",
   "name": "python3"
  },
  "language_info": {
   "codemirror_mode": {
    "name": "ipython",
    "version": 3
   },
   "file_extension": ".py",
   "mimetype": "text/x-python",
   "name": "python",
   "nbconvert_exporter": "python",
   "pygments_lexer": "ipython3",
   "version": "3.6.7"
  }
 },
 "nbformat": 4,
 "nbformat_minor": 2
}
