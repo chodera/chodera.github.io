{
 "cells": [
  {
   "cell_type": "markdown",
   "metadata": {},
   "source": [
    "# Analysing the data from \"Chronik flüchtlingsfeindlicher Vorfälle\""
   ]
  },
  {
   "cell_type": "markdown",
   "metadata": {},
   "source": [
    "## Setup"
   ]
  },
  {
   "cell_type": "code",
   "execution_count": 2,
   "metadata": {},
   "outputs": [],
   "source": [
    "%matplotlib inline\n",
    "import pandas as pd\n",
    "import numpy as np\n",
    "import matplotlib.pyplot as plt\n",
    "import seaborn as sns"
   ]
  },
  {
   "cell_type": "markdown",
   "metadata": {},
   "source": [
    "Load the data sets:"
   ]
  },
  {
   "cell_type": "code",
   "execution_count": 3,
   "metadata": {},
   "outputs": [],
   "source": [
    "df = pd.read_csv('data/mut_gegen_rechte_gewalt_clean.csv')\n",
    "statistik = pd.read_csv('data/asylmonatszahlen.csv')"
   ]
  },
  {
   "cell_type": "markdown",
   "metadata": {},
   "source": [
    "## Analysis"
   ]
  },
  {
   "cell_type": "markdown",
   "metadata": {},
   "source": [
    "### Attacks over time"
   ]
  },
  {
   "cell_type": "markdown",
   "metadata": {},
   "source": [
    "Prepare the data from the 'Chronik': aggregate by month (setting date as index) and count number of attacks."
   ]
  },
  {
   "cell_type": "code",
   "execution_count": 4,
   "metadata": {},
   "outputs": [
    {
     "data": {
      "text/html": [
       "<div>\n",
       "<style scoped>\n",
       "    .dataframe tbody tr th:only-of-type {\n",
       "        vertical-align: middle;\n",
       "    }\n",
       "\n",
       "    .dataframe tbody tr th {\n",
       "        vertical-align: top;\n",
       "    }\n",
       "\n",
       "    .dataframe thead th {\n",
       "        text-align: right;\n",
       "    }\n",
       "</style>\n",
       "<table border=\"1\" class=\"dataframe\">\n",
       "  <thead>\n",
       "    <tr style=\"text-align: right;\">\n",
       "      <th></th>\n",
       "      <th>n_attacks</th>\n",
       "    </tr>\n",
       "  </thead>\n",
       "  <tbody>\n",
       "    <tr>\n",
       "      <th>Jan 2015</th>\n",
       "      <td>78</td>\n",
       "    </tr>\n",
       "    <tr>\n",
       "      <th>Feb 2015</th>\n",
       "      <td>52</td>\n",
       "    </tr>\n",
       "    <tr>\n",
       "      <th>Mar 2015</th>\n",
       "      <td>77</td>\n",
       "    </tr>\n",
       "    <tr>\n",
       "      <th>Apr 2015</th>\n",
       "      <td>69</td>\n",
       "    </tr>\n",
       "    <tr>\n",
       "      <th>May 2015</th>\n",
       "      <td>76</td>\n",
       "    </tr>\n",
       "    <tr>\n",
       "      <th>Jun 2015</th>\n",
       "      <td>51</td>\n",
       "    </tr>\n",
       "    <tr>\n",
       "      <th>Jul 2015</th>\n",
       "      <td>125</td>\n",
       "    </tr>\n",
       "    <tr>\n",
       "      <th>Aug 2015</th>\n",
       "      <td>197</td>\n",
       "    </tr>\n",
       "    <tr>\n",
       "      <th>Sep 2015</th>\n",
       "      <td>163</td>\n",
       "    </tr>\n",
       "    <tr>\n",
       "      <th>Oct 2015</th>\n",
       "      <td>297</td>\n",
       "    </tr>\n",
       "    <tr>\n",
       "      <th>Nov 2015</th>\n",
       "      <td>208</td>\n",
       "    </tr>\n",
       "    <tr>\n",
       "      <th>Dec 2015</th>\n",
       "      <td>146</td>\n",
       "    </tr>\n",
       "    <tr>\n",
       "      <th>Jan 2016</th>\n",
       "      <td>645</td>\n",
       "    </tr>\n",
       "    <tr>\n",
       "      <th>Feb 2016</th>\n",
       "      <td>556</td>\n",
       "    </tr>\n",
       "    <tr>\n",
       "      <th>Mar 2016</th>\n",
       "      <td>457</td>\n",
       "    </tr>\n",
       "    <tr>\n",
       "      <th>Apr 2016</th>\n",
       "      <td>323</td>\n",
       "    </tr>\n",
       "    <tr>\n",
       "      <th>May 2016</th>\n",
       "      <td>325</td>\n",
       "    </tr>\n",
       "    <tr>\n",
       "      <th>Jun 2016</th>\n",
       "      <td>245</td>\n",
       "    </tr>\n",
       "    <tr>\n",
       "      <th>Jul 2016</th>\n",
       "      <td>304</td>\n",
       "    </tr>\n",
       "    <tr>\n",
       "      <th>Aug 2016</th>\n",
       "      <td>283</td>\n",
       "    </tr>\n",
       "    <tr>\n",
       "      <th>Sep 2016</th>\n",
       "      <td>248</td>\n",
       "    </tr>\n",
       "    <tr>\n",
       "      <th>Oct 2016</th>\n",
       "      <td>244</td>\n",
       "    </tr>\n",
       "    <tr>\n",
       "      <th>Nov 2016</th>\n",
       "      <td>159</td>\n",
       "    </tr>\n",
       "    <tr>\n",
       "      <th>Dec 2016</th>\n",
       "      <td>215</td>\n",
       "    </tr>\n",
       "    <tr>\n",
       "      <th>Jan 2017</th>\n",
       "      <td>298</td>\n",
       "    </tr>\n",
       "    <tr>\n",
       "      <th>Feb 2017</th>\n",
       "      <td>195</td>\n",
       "    </tr>\n",
       "    <tr>\n",
       "      <th>Mar 2017</th>\n",
       "      <td>200</td>\n",
       "    </tr>\n",
       "    <tr>\n",
       "      <th>Apr 2017</th>\n",
       "      <td>185</td>\n",
       "    </tr>\n",
       "    <tr>\n",
       "      <th>May 2017</th>\n",
       "      <td>223</td>\n",
       "    </tr>\n",
       "    <tr>\n",
       "      <th>Jun 2017</th>\n",
       "      <td>220</td>\n",
       "    </tr>\n",
       "    <tr>\n",
       "      <th>Jul 2017</th>\n",
       "      <td>179</td>\n",
       "    </tr>\n",
       "    <tr>\n",
       "      <th>Aug 2017</th>\n",
       "      <td>240</td>\n",
       "    </tr>\n",
       "    <tr>\n",
       "      <th>Sep 2017</th>\n",
       "      <td>239</td>\n",
       "    </tr>\n",
       "    <tr>\n",
       "      <th>Oct 2017</th>\n",
       "      <td>155</td>\n",
       "    </tr>\n",
       "    <tr>\n",
       "      <th>Nov 2017</th>\n",
       "      <td>118</td>\n",
       "    </tr>\n",
       "    <tr>\n",
       "      <th>Dec 2017</th>\n",
       "      <td>114</td>\n",
       "    </tr>\n",
       "    <tr>\n",
       "      <th>Jan 2018</th>\n",
       "      <td>150</td>\n",
       "    </tr>\n",
       "    <tr>\n",
       "      <th>Feb 2018</th>\n",
       "      <td>103</td>\n",
       "    </tr>\n",
       "    <tr>\n",
       "      <th>Mar 2018</th>\n",
       "      <td>97</td>\n",
       "    </tr>\n",
       "    <tr>\n",
       "      <th>Apr 2018</th>\n",
       "      <td>136</td>\n",
       "    </tr>\n",
       "    <tr>\n",
       "      <th>May 2018</th>\n",
       "      <td>118</td>\n",
       "    </tr>\n",
       "    <tr>\n",
       "      <th>Jun 2018</th>\n",
       "      <td>79</td>\n",
       "    </tr>\n",
       "    <tr>\n",
       "      <th>Jul 2018</th>\n",
       "      <td>127</td>\n",
       "    </tr>\n",
       "    <tr>\n",
       "      <th>Aug 2018</th>\n",
       "      <td>165</td>\n",
       "    </tr>\n",
       "    <tr>\n",
       "      <th>Sep 2018</th>\n",
       "      <td>100</td>\n",
       "    </tr>\n",
       "    <tr>\n",
       "      <th>Oct 2018</th>\n",
       "      <td>8</td>\n",
       "    </tr>\n",
       "    <tr>\n",
       "      <th>Nov 2018</th>\n",
       "      <td>5</td>\n",
       "    </tr>\n",
       "    <tr>\n",
       "      <th>Dec 2018</th>\n",
       "      <td>3</td>\n",
       "    </tr>\n",
       "    <tr>\n",
       "      <th>Jan 2019</th>\n",
       "      <td>3</td>\n",
       "    </tr>\n",
       "    <tr>\n",
       "      <th>Feb 2019</th>\n",
       "      <td>4</td>\n",
       "    </tr>\n",
       "    <tr>\n",
       "      <th>Mar 2019</th>\n",
       "      <td>2</td>\n",
       "    </tr>\n",
       "    <tr>\n",
       "      <th>Apr 2019</th>\n",
       "      <td>0</td>\n",
       "    </tr>\n",
       "    <tr>\n",
       "      <th>May 2019</th>\n",
       "      <td>3</td>\n",
       "    </tr>\n",
       "  </tbody>\n",
       "</table>\n",
       "</div>"
      ],
      "text/plain": [
       "          n_attacks\n",
       "Jan 2015         78\n",
       "Feb 2015         52\n",
       "Mar 2015         77\n",
       "Apr 2015         69\n",
       "May 2015         76\n",
       "Jun 2015         51\n",
       "Jul 2015        125\n",
       "Aug 2015        197\n",
       "Sep 2015        163\n",
       "Oct 2015        297\n",
       "Nov 2015        208\n",
       "Dec 2015        146\n",
       "Jan 2016        645\n",
       "Feb 2016        556\n",
       "Mar 2016        457\n",
       "Apr 2016        323\n",
       "May 2016        325\n",
       "Jun 2016        245\n",
       "Jul 2016        304\n",
       "Aug 2016        283\n",
       "Sep 2016        248\n",
       "Oct 2016        244\n",
       "Nov 2016        159\n",
       "Dec 2016        215\n",
       "Jan 2017        298\n",
       "Feb 2017        195\n",
       "Mar 2017        200\n",
       "Apr 2017        185\n",
       "May 2017        223\n",
       "Jun 2017        220\n",
       "Jul 2017        179\n",
       "Aug 2017        240\n",
       "Sep 2017        239\n",
       "Oct 2017        155\n",
       "Nov 2017        118\n",
       "Dec 2017        114\n",
       "Jan 2018        150\n",
       "Feb 2018        103\n",
       "Mar 2018         97\n",
       "Apr 2018        136\n",
       "May 2018        118\n",
       "Jun 2018         79\n",
       "Jul 2018        127\n",
       "Aug 2018        165\n",
       "Sep 2018        100\n",
       "Oct 2018          8\n",
       "Nov 2018          5\n",
       "Dec 2018          3\n",
       "Jan 2019          3\n",
       "Feb 2019          4\n",
       "Mar 2019          2\n",
       "Apr 2019          0\n",
       "May 2019          3"
      ]
     },
     "execution_count": 4,
     "metadata": {},
     "output_type": "execute_result"
    }
   ],
   "source": [
    "df['date'] = pd.to_datetime(df['date'])\n",
    "df_date = df.resample('M', on='date')[['date']].count()\n",
    "df_date.index = df_date.index.strftime('%b %Y')\n",
    "df_date.columns = ['n_attacks']\n",
    "df_date.head()"
   ]
  },
  {
   "cell_type": "markdown",
   "metadata": {},
   "source": [
    "Prepare the data on monthly number of refugees by formatting it like above."
   ]
  },
  {
   "cell_type": "code",
   "execution_count": 7,
   "metadata": {},
   "outputs": [
    {
     "data": {
      "text/html": [
       "<div>\n",
       "<style scoped>\n",
       "    .dataframe tbody tr th:only-of-type {\n",
       "        vertical-align: middle;\n",
       "    }\n",
       "\n",
       "    .dataframe tbody tr th {\n",
       "        vertical-align: top;\n",
       "    }\n",
       "\n",
       "    .dataframe thead th {\n",
       "        text-align: right;\n",
       "    }\n",
       "</style>\n",
       "<table border=\"1\" class=\"dataframe\">\n",
       "  <thead>\n",
       "    <tr style=\"text-align: right;\">\n",
       "      <th></th>\n",
       "      <th>n_refugees</th>\n",
       "    </tr>\n",
       "  </thead>\n",
       "  <tbody>\n",
       "    <tr>\n",
       "      <th>Jan 2015</th>\n",
       "      <td>25042</td>\n",
       "    </tr>\n",
       "    <tr>\n",
       "      <th>Feb 2015</th>\n",
       "      <td>26083</td>\n",
       "    </tr>\n",
       "    <tr>\n",
       "      <th>Mar 2015</th>\n",
       "      <td>32054</td>\n",
       "    </tr>\n",
       "    <tr>\n",
       "      <th>Apr 2015</th>\n",
       "      <td>27178</td>\n",
       "    </tr>\n",
       "    <tr>\n",
       "      <th>May 2015</th>\n",
       "      <td>25992</td>\n",
       "    </tr>\n",
       "  </tbody>\n",
       "</table>\n",
       "</div>"
      ],
      "text/plain": [
       "          n_refugees\n",
       "Jan 2015       25042\n",
       "Feb 2015       26083\n",
       "Mar 2015       32054\n",
       "Apr 2015       27178\n",
       "May 2015       25992"
      ]
     },
     "execution_count": 7,
     "metadata": {},
     "output_type": "execute_result"
    }
   ],
   "source": [
    "statistik['date'] = pd.to_datetime(statistik['date'])\n",
    "statistik = statistik.resample('M', on='date').sum()\n",
    "statistik.index = statistik.index.strftime('%b %Y')\n",
    "statistik.columns = ['n_refugees']\n",
    "statistik.head()"
   ]
  },
  {
   "cell_type": "markdown",
   "metadata": {},
   "source": [
    "Merge both data sets:"
   ]
  },
  {
   "cell_type": "code",
   "execution_count": 8,
   "metadata": {
    "scrolled": true
   },
   "outputs": [
    {
     "data": {
      "text/html": [
       "<div>\n",
       "<style scoped>\n",
       "    .dataframe tbody tr th:only-of-type {\n",
       "        vertical-align: middle;\n",
       "    }\n",
       "\n",
       "    .dataframe tbody tr th {\n",
       "        vertical-align: top;\n",
       "    }\n",
       "\n",
       "    .dataframe thead th {\n",
       "        text-align: right;\n",
       "    }\n",
       "</style>\n",
       "<table border=\"1\" class=\"dataframe\">\n",
       "  <thead>\n",
       "    <tr style=\"text-align: right;\">\n",
       "      <th></th>\n",
       "      <th>n_attacks</th>\n",
       "      <th>n_refugees</th>\n",
       "    </tr>\n",
       "  </thead>\n",
       "  <tbody>\n",
       "    <tr>\n",
       "      <th>Jan 2015</th>\n",
       "      <td>78</td>\n",
       "      <td>25042.0</td>\n",
       "    </tr>\n",
       "    <tr>\n",
       "      <th>Feb 2015</th>\n",
       "      <td>52</td>\n",
       "      <td>26083.0</td>\n",
       "    </tr>\n",
       "    <tr>\n",
       "      <th>Mar 2015</th>\n",
       "      <td>77</td>\n",
       "      <td>32054.0</td>\n",
       "    </tr>\n",
       "    <tr>\n",
       "      <th>Apr 2015</th>\n",
       "      <td>69</td>\n",
       "      <td>27178.0</td>\n",
       "    </tr>\n",
       "    <tr>\n",
       "      <th>May 2015</th>\n",
       "      <td>76</td>\n",
       "      <td>25992.0</td>\n",
       "    </tr>\n",
       "  </tbody>\n",
       "</table>\n",
       "</div>"
      ],
      "text/plain": [
       "          n_attacks  n_refugees\n",
       "Jan 2015         78     25042.0\n",
       "Feb 2015         52     26083.0\n",
       "Mar 2015         77     32054.0\n",
       "Apr 2015         69     27178.0\n",
       "May 2015         76     25992.0"
      ]
     },
     "execution_count": 8,
     "metadata": {},
     "output_type": "execute_result"
    }
   ],
   "source": [
    "combined = df_date.merge(statistik, how='left', left_index=True, right_index=True)\n",
    "combined = combined.dropna()\n",
    "combined.head()"
   ]
  },
  {
   "cell_type": "markdown",
   "metadata": {},
   "source": [
    "Finally, we are ready to plot the data:"
   ]
  },
  {
   "cell_type": "code",
   "execution_count": 30,
   "metadata": {},
   "outputs": [
    {
     "data": {
      "image/png": "[encoded data removed]",
      "text/plain": [
       "<Figure size 792x504 with 2 Axes>"
      ]
     },
     "metadata": {
      "needs_background": "light"
     },
     "output_type": "display_data"
    }
   ],
   "source": [
    "# Set figure and font size\n",
    "plt.figure(figsize=(11, 7))\n",
    "plt.rcParams.update({'font.size': 14})\n",
    "# Define plot\n",
    "ax1 = combined['n_attacks'].plot(color = '#0173b2')\n",
    "ax2 = plt.twinx()\n",
    "combined['n_refugees'].plot(color='#de8f05', ax=ax2)\n",
    "# Set grid lines\n",
    "ax1.xaxis.grid(True)\n",
    "ax1.yaxis.grid(True)\n",
    "# Set labels\n",
    "plt.title('')\n",
    "ax1.set_ylabel('Number of attacks')\n",
    "ax2.set_ylabel('Number of refugees')\n",
    "# Turn axis ticks off\n",
    "ax1.tick_params(axis=u'both', which=u'both',length=0)\n",
    "ax2.tick_params(axis=u'both', which=u'both',length=0)\n",
    "# Set legend\n",
    "ax1.set_label('lkmkl')\n",
    "legend = ax1.figure.legend(loc='upper right', bbox_to_anchor=(0.7, 0.7))\n",
    "legend.get_texts()[0].set_text('Attacks')\n",
    "legend.get_texts()[1].set_text('Refugees')\n",
    "# Avoid clipping of right y labels\n",
    "plt.tight_layout()\n",
    "# Remove frame \n",
    "sns.despine(top=True, right=True, left=True, bottom=True);"
   ]
  },
  {
   "cell_type": "markdown",
   "metadata": {},
   "source": [
    "### Attacks by Bundesland"
   ]
  },
  {
   "cell_type": "markdown",
   "metadata": {},
   "source": [
    "Group the number of attacks by Bundesland:"
   ]
  },
  {
   "cell_type": "code",
   "execution_count": 5,
   "metadata": {},
   "outputs": [
    {
     "data": {
      "text/html": [
       "<div>\n",
       "<style scoped>\n",
       "    .dataframe tbody tr th:only-of-type {\n",
       "        vertical-align: middle;\n",
       "    }\n",
       "\n",
       "    .dataframe tbody tr th {\n",
       "        vertical-align: top;\n",
       "    }\n",
       "\n",
       "    .dataframe thead th {\n",
       "        text-align: right;\n",
       "    }\n",
       "</style>\n",
       "<table border=\"1\" class=\"dataframe\">\n",
       "  <thead>\n",
       "    <tr style=\"text-align: right;\">\n",
       "      <th></th>\n",
       "      <th>bundesland</th>\n",
       "      <th>n</th>\n",
       "    </tr>\n",
       "  </thead>\n",
       "  <tbody>\n",
       "    <tr>\n",
       "      <th>12</th>\n",
       "      <td>Sachsen</td>\n",
       "      <td>1406</td>\n",
       "    </tr>\n",
       "    <tr>\n",
       "      <th>1</th>\n",
       "      <td>Bayern</td>\n",
       "      <td>1057</td>\n",
       "    </tr>\n",
       "    <tr>\n",
       "      <th>9</th>\n",
       "      <td>Nordrhein-Westfalen</td>\n",
       "      <td>968</td>\n",
       "    </tr>\n",
       "    <tr>\n",
       "      <th>3</th>\n",
       "      <td>Brandenburg</td>\n",
       "      <td>930</td>\n",
       "    </tr>\n",
       "    <tr>\n",
       "      <th>0</th>\n",
       "      <td>Baden-Württemberg</td>\n",
       "      <td>803</td>\n",
       "    </tr>\n",
       "    <tr>\n",
       "      <th>2</th>\n",
       "      <td>Berlin</td>\n",
       "      <td>701</td>\n",
       "    </tr>\n",
       "    <tr>\n",
       "      <th>8</th>\n",
       "      <td>Niedersachsen</td>\n",
       "      <td>642</td>\n",
       "    </tr>\n",
       "    <tr>\n",
       "      <th>13</th>\n",
       "      <td>Sachsen-Anhalt</td>\n",
       "      <td>539</td>\n",
       "    </tr>\n",
       "    <tr>\n",
       "      <th>15</th>\n",
       "      <td>Thüringen</td>\n",
       "      <td>486</td>\n",
       "    </tr>\n",
       "    <tr>\n",
       "      <th>14</th>\n",
       "      <td>Schleswig-Holstein</td>\n",
       "      <td>398</td>\n",
       "    </tr>\n",
       "    <tr>\n",
       "      <th>7</th>\n",
       "      <td>Mecklenburg-Vorpommern</td>\n",
       "      <td>388</td>\n",
       "    </tr>\n",
       "    <tr>\n",
       "      <th>6</th>\n",
       "      <td>Hessen</td>\n",
       "      <td>251</td>\n",
       "    </tr>\n",
       "    <tr>\n",
       "      <th>10</th>\n",
       "      <td>Rheinland-Pfalz</td>\n",
       "      <td>228</td>\n",
       "    </tr>\n",
       "    <tr>\n",
       "      <th>5</th>\n",
       "      <td>Hamburg</td>\n",
       "      <td>121</td>\n",
       "    </tr>\n",
       "    <tr>\n",
       "      <th>11</th>\n",
       "      <td>Saarland</td>\n",
       "      <td>69</td>\n",
       "    </tr>\n",
       "    <tr>\n",
       "      <th>4</th>\n",
       "      <td>Bremen</td>\n",
       "      <td>25</td>\n",
       "    </tr>\n",
       "  </tbody>\n",
       "</table>\n",
       "</div>"
      ],
      "text/plain": [
       "                bundesland     n\n",
       "12                 Sachsen  1406\n",
       "1                   Bayern  1057\n",
       "9      Nordrhein-Westfalen   968\n",
       "3              Brandenburg   930\n",
       "0        Baden-Württemberg   803\n",
       "2                   Berlin   701\n",
       "8            Niedersachsen   642\n",
       "13          Sachsen-Anhalt   539\n",
       "15               Thüringen   486\n",
       "14      Schleswig-Holstein   398\n",
       "7   Mecklenburg-Vorpommern   388\n",
       "6                   Hessen   251\n",
       "10         Rheinland-Pfalz   228\n",
       "5                  Hamburg   121\n",
       "11                Saarland    69\n",
       "4                   Bremen    25"
      ]
     },
     "execution_count": 5,
     "metadata": {},
     "output_type": "execute_result"
    }
   ],
   "source": [
    "df_bundesland = df.groupby('bundesland').size().reset_index(name='n').sort_values('n', ascending=False)\n",
    "df_bundesland"
   ]
  },
  {
   "cell_type": "markdown",
   "metadata": {},
   "source": [
    "Create a variable indicating if a Bundesland is in East or Western Germany (for coloring in plot):"
   ]
  },
  {
   "cell_type": "code",
   "execution_count": 6,
   "metadata": {},
   "outputs": [
    {
     "data": {
      "text/plain": [
       "West    10\n",
       "East     6\n",
       "Name: east_west, dtype: int64"
      ]
     },
     "execution_count": 6,
     "metadata": {},
     "output_type": "execute_result"
    }
   ],
   "source": [
    "east = ['Brandenburg', 'Sachsen', 'Mecklenburg-Vorpommern', 'Sachsen-Anhalt', 'Thüringen', 'Berlin']\n",
    "df_bundesland['east_west'] = df_bundesland['bundesland'].apply(lambda x: 'East' if x in east else 'West')\n",
    "df_bundesland['east_west'].value_counts()"
   ]
  },
  {
   "cell_type": "code",
   "execution_count": 7,
   "metadata": {},
   "outputs": [
    {
     "data": {
      "image/png": "[encoded data removed]",
      "text/plain": [
       "<Figure size 792x504 with 1 Axes>"
      ]
     },
     "metadata": {
      "needs_background": "light"
     },
     "output_type": "display_data"
    }
   ],
   "source": [
    "# Set figure and font size\n",
    "plt.figure(figsize=(11, 7))\n",
    "plt.rcParams.update({'font.size': 14})\n",
    "# Define plot\n",
    "ax = plt.axes()\n",
    "sns.barplot(x='n', y='bundesland', data=df_bundesland, hue='east_west', dodge=False)\n",
    "# Set grid lines\n",
    "ax.xaxis.grid(True)\n",
    "# Set labels\n",
    "plt.title('Absolute number of attacks per Bundesland')\n",
    "plt.xlabel('')\n",
    "plt.ylabel('')\n",
    "# Remove legend title\n",
    "plt.legend(title='')\n",
    "# Turn axis ticks off\n",
    "ax.tick_params(axis=u'both', which=u'both',length=0)\n",
    "# Remove y axis ticks\n",
    "ax.tick_params(left=False)\n",
    "# Remove frame \n",
    "sns.despine(top=True, right=True, left=True, bottom=True);"
   ]
  },
  {
   "cell_type": "markdown",
   "metadata": {},
   "source": [
    "### Attacks by Bundesland (standardized by population)"
   ]
  },
  {
   "cell_type": "markdown",
   "metadata": {},
   "source": [
    "Compute standardized attack rate (100000 attacks per person):"
   ]
  },
  {
   "cell_type": "code",
   "execution_count": 8,
   "metadata": {},
   "outputs": [],
   "source": [
    "pop_bundesland = df.groupby('population', as_index=False).first()[['bundesland', 'population']]\n",
    "df_bundesland = df_bundesland.merge(pop_bundesland, on='bundesland', how='left')\n",
    "df_bundesland['n_std'] = df_bundesland['n'] * 100000 / df_bundesland['population']\n",
    "df_bundesland = df_bundesland.sort_values('n_std', ascending=False)"
   ]
  },
  {
   "cell_type": "code",
   "execution_count": 9,
   "metadata": {},
   "outputs": [
    {
     "data": {
      "image/png": "[encoded data removed]",
      "text/plain": [
       "<Figure size 792x504 with 1 Axes>"
      ]
     },
     "metadata": {
      "needs_background": "light"
     },
     "output_type": "display_data"
    }
   ],
   "source": [
    "# Set figure and font size\n",
    "plt.figure(figsize=(11, 7))\n",
    "plt.rcParams.update({'font.size': 14})\n",
    "# Define plot\n",
    "ax = plt.axes()\n",
    "sns.barplot(x='n_std', y='bundesland', data=df_bundesland, hue='east_west', dodge=False)\n",
    "# Set grid lines\n",
    "ax.xaxis.grid(True)\n",
    "# Set labels\n",
    "plt.title('Standardized attack rate per Bundesland')\n",
    "plt.xlabel('Per 100,000 inhabitants')\n",
    "plt.ylabel('')\n",
    "# Remove legend title\n",
    "plt.legend(title='')\n",
    "# Turn axis ticks off\n",
    "ax.tick_params(axis=u'both', which=u'both',length=0)\n",
    "# Remove y axis ticks\n",
    "ax.tick_params(left=False)\n",
    "# Remove frame \n",
    "sns.despine(top=True, right=True, left=True, bottom=True);"
   ]
  },
  {
   "cell_type": "markdown",
   "metadata": {},
   "source": [
    "### Attacks by category"
   ]
  },
  {
   "cell_type": "code",
   "execution_count": 35,
   "metadata": {
    "scrolled": true
   },
   "outputs": [
    {
     "data": {
      "text/html": [
       "<div>\n",
       "<style scoped>\n",
       "    .dataframe tbody tr th:only-of-type {\n",
       "        vertical-align: middle;\n",
       "    }\n",
       "\n",
       "    .dataframe tbody tr th {\n",
       "        vertical-align: top;\n",
       "    }\n",
       "\n",
       "    .dataframe thead th {\n",
       "        text-align: right;\n",
       "    }\n",
       "</style>\n",
       "<table border=\"1\" class=\"dataframe\">\n",
       "  <thead>\n",
       "    <tr style=\"text-align: right;\">\n",
       "      <th></th>\n",
       "      <th>category</th>\n",
       "      <th>n</th>\n",
       "    </tr>\n",
       "  </thead>\n",
       "  <tbody>\n",
       "    <tr>\n",
       "      <th>2</th>\n",
       "      <td>Other attacks</td>\n",
       "      <td>6611</td>\n",
       "    </tr>\n",
       "    <tr>\n",
       "      <th>1</th>\n",
       "      <td>Assault and battery</td>\n",
       "      <td>1482</td>\n",
       "    </tr>\n",
       "    <tr>\n",
       "      <th>3</th>\n",
       "      <td>Rally/demonstration</td>\n",
       "      <td>361</td>\n",
       "    </tr>\n",
       "    <tr>\n",
       "      <th>4</th>\n",
       "      <td>Suspected case</td>\n",
       "      <td>286</td>\n",
       "    </tr>\n",
       "    <tr>\n",
       "      <th>0</th>\n",
       "      <td>Arson attack</td>\n",
       "      <td>272</td>\n",
       "    </tr>\n",
       "  </tbody>\n",
       "</table>\n",
       "</div>"
      ],
      "text/plain": [
       "              category     n\n",
       "2        Other attacks  6611\n",
       "1  Assault and battery  1482\n",
       "3  Rally/demonstration   361\n",
       "4       Suspected case   286\n",
       "0         Arson attack   272"
      ]
     },
     "execution_count": 35,
     "metadata": {},
     "output_type": "execute_result"
    }
   ],
   "source": [
    "df_category = df.groupby('category').size().reset_index(name='n').sort_values('n', ascending=False)\n",
    "df_category"
   ]
  },
  {
   "cell_type": "code",
   "execution_count": 36,
   "metadata": {},
   "outputs": [
    {
     "data": {
      "image/png": "[encoded data removed]",
      "text/plain": [
       "<Figure size 792x504 with 1 Axes>"
      ]
     },
     "metadata": {
      "needs_background": "light"
     },
     "output_type": "display_data"
    }
   ],
   "source": [
    "# Set figure and font size\n",
    "plt.figure(figsize=(11, 7))\n",
    "plt.rcParams.update({'font.size': 14})\n",
    "# Define plot\n",
    "ax = plt.axes()\n",
    "sns.barplot(x='n', y='category', data=df_category, color='#0173b2')\n",
    "# Set grid lines\n",
    "ax.xaxis.grid(True)\n",
    "# Set labels\n",
    "plt.title('Attacks by category')\n",
    "plt.xlabel('')\n",
    "plt.ylabel('')\n",
    "# Turn axis ticks off\n",
    "ax.tick_params(axis=u'both', which=u'both',length=0)\n",
    "# Remove frame \n",
    "sns.despine(top=True, right=True, left=True, bottom=True);"
   ]
  },
  {
   "cell_type": "markdown",
   "metadata": {},
   "source": [
    "### Number of casualties"
   ]
  },
  {
   "cell_type": "markdown",
   "metadata": {},
   "source": [
    "Absolute numbers:"
   ]
  },
  {
   "cell_type": "code",
   "execution_count": 14,
   "metadata": {},
   "outputs": [
    {
     "data": {
      "text/plain": [
       "NaN     8401\n",
       "1.0      473\n",
       "2.0       88\n",
       "3.0       27\n",
       "4.0       12\n",
       "6.0        3\n",
       "5.0        3\n",
       "9.0        1\n",
       "35.0       1\n",
       "7.0        1\n",
       "20.0       1\n",
       "14.0       1\n",
       "Name: casualties, dtype: int64"
      ]
     },
     "execution_count": 14,
     "metadata": {},
     "output_type": "execute_result"
    }
   ],
   "source": [
    "df['casualties'].value_counts(dropna=False)"
   ]
  },
  {
   "cell_type": "markdown",
   "metadata": {},
   "source": [
    "Relative numbers:"
   ]
  },
  {
   "cell_type": "code",
   "execution_count": 15,
   "metadata": {},
   "outputs": [
    {
     "data": {
      "text/plain": [
       "NaN     0.932202\n",
       "1.0     0.052486\n",
       "2.0     0.009765\n",
       "3.0     0.002996\n",
       "4.0     0.001332\n",
       "6.0     0.000333\n",
       "5.0     0.000333\n",
       "9.0     0.000111\n",
       "35.0    0.000111\n",
       "7.0     0.000111\n",
       "20.0    0.000111\n",
       "14.0    0.000111\n",
       "Name: casualties, dtype: float64"
      ]
     },
     "execution_count": 15,
     "metadata": {},
     "output_type": "execute_result"
    }
   ],
   "source": [
    "df['casualties'].value_counts(normalize=True, dropna=False)"
   ]
  },
  {
   "cell_type": "markdown",
   "metadata": {},
   "source": [
    "By far most of the events do not involve any casualties (more than 90%). In around 5% of the events, 1 Person was injured. There are as well three events, in which more than 10 people suffered from injuries. Let's check which events correspond to the event with the highes number of casualties:"
   ]
  },
  {
   "cell_type": "code",
   "execution_count": 16,
   "metadata": {},
   "outputs": [
    {
     "name": "stdout",
     "output_type": "stream",
     "text": [
      "In einer Asylunterkunft in Massow gab es eine Attacke mit Pfefferspray, bei der etwa 35 Asylsuchende Reizungen der Atemwege und Augen erlitten. 14 Menschen mussten im Krankenhaus behandelt werden. Die Polizei nahm einen 28-jährigen Tatverdächtigen fest. Er soll als Bauarbeiter auf dem Gelände der Asylunterkunft gearbeitet haben.\n",
      "\n",
      "Update: In Königs Wusterhausen musste sich der Angeklagte im Februar 2017 vor Gericht verantworten. Im Prozess gesteht der Angeklagte die als gefährliche Körperverletzung angeklagte Tat, bestreitet aber eine ebenfalls angeklagte Beleidigung. Die Pfeffersprayattacke stellt er als „Spaß“ dar: Er habe nicht gewusst, dass ein lediglich eine Sekunde anhaltendes Sprühen solchen Schaden anrichten könne. Trotz der großen Zahl an Verletzten kann nur ein Mann aus Syrien im Prozess als Nebenkläger auftreten, da der Großteil der anderen Betroffenen in der Zwischenzeit abgeschoben wurde, berichtet Justizwatch. Weiter heißt es im Prozessbericht: \"Die Tatschilderung des Nebenklägers unterscheidet sich zwar in wesentlichen Punkten von der Version des Angeklagten und eines mit ihm befreundeten Zeugen, kann aber nicht durch weitere Zeug*innen bestätigt werden. Dies nehmen der Staatsanwalt und der Richter zum Anlass, den Nebenkläger auf seine Wahrheitspflicht hinzuweisen. Der Angeklagte wird schließlich der gefährlichen Körperverletzung schuldig gesprochen und zu einer Freiheitsstrafe von 1,5 Jahren auf Bewährung verurteilt. Das Gericht kann allerdings keine rassistische oder menschenverachtende Tatmotivation feststellen. Der Angeklagte habe ja vor der Tat den Abend mit Bewohnern der Unterkunft in guter Stimmung verbracht. Und Albaner seien für führende deutsche Kadernazis wohl nicht die „typische Umgangsklientel“. Daher gehöre die Tat eher in die Kategorie „sehr dummer Jungenstreich“.\"\n"
     ]
    }
   ],
   "source": [
    "print(*df[df['casualties'] == 35]['description'])"
   ]
  }
 ],
 "metadata": {
  "kernelspec": {
   "display_name": "Python 3",
   "language": "python",
   "name": "python3"
  },
  "language_info": {
   "codemirror_mode": {
    "name": "ipython",
    "version": 3
   },
   "file_extension": ".py",
   "mimetype": "text/x-python",
   "name": "python",
   "nbconvert_exporter": "python",
   "pygments_lexer": "ipython3",
   "version": "3.6.7"
  }
 },
 "nbformat": 4,
 "nbformat_minor": 2
}
