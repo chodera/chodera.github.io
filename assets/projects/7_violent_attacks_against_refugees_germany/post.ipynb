{
 "cells": [
  {
   "cell_type": "markdown",
   "metadata": {},
   "source": [
    "# Violent attacks against refugees in Germany"
   ]
  },
  {
   "cell_type": "markdown",
   "metadata": {},
   "source": [
    "## Introduction"
   ]
  },
  {
   "cell_type": "markdown",
   "metadata": {},
   "source": [
    "Anti-refugee attacks in the Federal Republic of Germany, including direct verbal and physical crimes against refugees, refugee shelters and facilities for asylum seekers, have strongly increased since the refugee crisis in Europe in 2015. This post was inspired by a similar project: https://vis.one/rechte-gewalt/."
   ]
  },
  {
   "cell_type": "markdown",
   "metadata": {},
   "source": [
    "## 1. Scraping \"Chronik flüchtlingsfeindlicher Vorfälle\""
   ]
  },
  {
   "cell_type": "markdown",
   "metadata": {},
   "source": [
    "### Setup"
   ]
  },
  {
   "cell_type": "markdown",
   "metadata": {},
   "source": [
    "Modules to be loaded are numpy and pandas for handling the data, requests-html for scraping the website, as well as seaborn for plotting."
   ]
  },
  {
   "cell_type": "code",
   "execution_count": 2,
   "metadata": {},
   "outputs": [],
   "source": [
    "%matplotlib inline\n",
    "import numpy as np\n",
    "import pandas as pd\n",
    "import seaborn as sns\n",
    "from requests_html import HTMLSession"
   ]
  },
  {
   "cell_type": "markdown",
   "metadata": {},
   "source": [
    "### Prepare the scraper"
   ]
  },
  {
   "cell_type": "markdown",
   "metadata": {},
   "source": [
    "First thing to do is to establish a html session to the website."
   ]
  },
  {
   "cell_type": "code",
   "execution_count": 3,
   "metadata": {},
   "outputs": [],
   "source": [
    "session = HTMLSession()\n",
    "r = session.get('https://www.mut-gegen-rechte-gewalt.de/service/chronik-vorfaelle')"
   ]
  },
  {
   "cell_type": "markdown",
   "metadata": {},
   "source": [
    "Next, we define the urls to be scraped. In total, there are 903 sites, the first one without a suffix, later on with a suffix indicating the site number which makes it straightforward to set the full urls."
   ]
  },
  {
   "cell_type": "code",
   "execution_count": 4,
   "metadata": {},
   "outputs": [],
   "source": [
    "# Initialize lists\n",
    "suffixes = [''] \n",
    "urls = []\n",
    "\n",
    "# Set suffix of url\n",
    "for i in range(1, 902):\n",
    "    suffixes.append('?page=' + str(i))\n",
    "\n",
    "# Set full urls\n",
    "for suffix in suffixes:\n",
    "    urls.append('https://www.mut-gegen-rechte-gewalt.de/service/chronik-vorfaelle' + suffix)"
   ]
  },
  {
   "cell_type": "markdown",
   "metadata": {},
   "source": [
    "Let's print the first five urls to check if it worked out."
   ]
  },
  {
   "cell_type": "code",
   "execution_count": 5,
   "metadata": {},
   "outputs": [
    {
     "name": "stdout",
     "output_type": "stream",
     "text": [
      "https://www.mut-gegen-rechte-gewalt.de/service/chronik-vorfaelle\n",
      "https://www.mut-gegen-rechte-gewalt.de/service/chronik-vorfaelle?page=1\n",
      "https://www.mut-gegen-rechte-gewalt.de/service/chronik-vorfaelle?page=2\n",
      "https://www.mut-gegen-rechte-gewalt.de/service/chronik-vorfaelle?page=3\n",
      "https://www.mut-gegen-rechte-gewalt.de/service/chronik-vorfaelle?page=4\n"
     ]
    }
   ],
   "source": [
    "print(*urls[0:5], sep='\\n')"
   ]
  },
  {
   "cell_type": "markdown",
   "metadata": {},
   "source": [
    "The urls look fine, now we ready to launch the scraper. It loops over every entry and scrapes information on each of the respective fields. If there is no information on a variable in a certain entry, the value None is assigned."
   ]
  },
  {
   "cell_type": "code",
   "execution_count": 6,
   "metadata": {},
   "outputs": [],
   "source": [
    "data = []\n",
    "\n",
    "for n in urls:\n",
    "    \n",
    "    r = session.get(n)\n",
    "    \n",
    "    for element in r.html.find('.node-chronik-eintrag'):\n",
    "\n",
    "        if element.find('.field-name-field-date', first = True) == None:\n",
    "            date = None\n",
    "        else:\n",
    "            date = element.find('.field-name-field-date', first = True).text\n",
    "\n",
    "        if element.find('.field-name-field-art', first = True) == None:\n",
    "            category = None\n",
    "        else:\n",
    "            category = element.find('.field-name-field-art', first = True).text\n",
    "\n",
    "        if element.find('.field-name-field-anzahl-verletze', first = True) == None:\n",
    "            casualties = None \n",
    "        else:\n",
    "            casualties = element.find('.field-name-field-anzahl-verletze', first = True).text               \n",
    "\n",
    "        if element.find('.field-name-field-city', first = True) == None:\n",
    "            city = None \n",
    "        else:\n",
    "            city = element.find('.field-name-field-city', first = True).text\n",
    "\n",
    "        if element.find('.field-name-field-bundesland', first = True) == None:\n",
    "            bundesland = None        \n",
    "        else:\n",
    "            bundesland = element.find('.field-name-field-bundesland', first = True).text\n",
    "        \n",
    "        if element.find('a[href^=\"http\"]', first = True) == None:\n",
    "            source = None \n",
    "        else:\n",
    "            source = element.find('a[href^=\"http\"]', first = True).text\n",
    "        \n",
    "        if element.find('a[href^=\"http\"]', first = True) == None:\n",
    "            source_url = None \n",
    "        else:\n",
    "            source_url = element.find('a[href^=\"http\"]', first = True).links\n",
    "        \n",
    "        if element.find('.group-right', first = True) == None:\n",
    "            description = None  \n",
    "        else:\n",
    "            description = element.find('.group-right', first = True).text\n",
    "            \n",
    "        data.append({'date': date, \n",
    "                     'category': category, \n",
    "                     'casualties': casualties, \n",
    "                     'city': city, \n",
    "                     'bundesland': bundesland,\n",
    "                     'source': source, \n",
    "                     'source_url': source_url, \n",
    "                     'description': description})"
   ]
  },
  {
   "cell_type": "markdown",
   "metadata": {},
   "source": [
    "Let's print the first three records to take a look at the scraping output."
   ]
  },
  {
   "cell_type": "code",
   "execution_count": 7,
   "metadata": {},
   "outputs": [
    {
     "name": "stdout",
     "output_type": "stream",
     "text": [
      "{'date': '17.05.2019', 'category': 'Tätlicher Übergriff/Körperverletzung', 'casualties': '1Verletzte_r', 'city': 'Prenzlau', 'bundesland': 'Brandenburg', 'source': 'Nordkurier', 'source_url': {'https://www.nordkurier.de/uckermark/junge-maenner-in-prenzlau-randalieren-1935542005.html'}, 'description': 'Zwei Deutsche haben am Abend zunächst neben einer Asylunterkunft randaliert. Als Kinder, die in der Asylunterkunft leben, sie aufforderten, dies zu unterlassen, betraten die beiden 21- bzw. 23-Jährigen das Gelände der Unterkunft. Einer von ihnen zückte ein Messer und soll laut Polizei \"Stichbewegungen gegen einen tschetschenischen Bewohner ausgeführt haben. Bei der folgenden Rangelei verletzte sich der Tschetschene an der Hand, ein Deutscher erlitt Verletzungen am Bein und musste operiert werden\", so die Polizei weiter. Die Kriminalpolizei ermittelt.'}\n",
      "{'date': '04.05.2019', 'category': 'Tätlicher Übergriff/Körperverletzung', 'casualties': None, 'city': 'Querfurt', 'bundesland': 'Sachsen-Anhalt', 'source': 'Mitteldeutsche Zeitung', 'source_url': {'https://www.mz-web.de/saalekreis/staatsschutz-ermittelt-junger-syrer-rassistisch-beschimpft-und-attackiert-32472432'}, 'description': 'Ein 21-jähriger aus Syrien wurde in der Nacht aus einer Gruppe aus fünf oder sechs jungen Deutschen zunächst rassistisch beleidigt und dann auch geschlagen. Als ein 47-jähriger Zeuge dazwischengehen wollte, sollen ihn die Angreifer zurückgestoßen und am Fuß verletzt haben. Der 21-Jährige musste nicht behandelt werden. Die Täter flüchteten, der Staatsschutz ermittelt.'}\n",
      "{'date': '01.05.2019', 'category': 'Sonstige Angriffe', 'casualties': None, 'city': 'Kirchheim', 'bundesland': 'Hessen', 'source': 'Süddeutsche Zeitung', 'source_url': {'https://www.sueddeutsche.de/muenchen/staatsschutz-ermittelt-angriffe-auf-fluechtlinge-und-ein-drohbrief-1.4429977'}, 'description': 'Unbekannte haben in der Nacht Eier gegen die Fassade einer Asylunterkunft geworfen. Als ein Mitarbeiter des Sicherheitsdienstes die Täter ansprach, flüchteten sie.'}\n"
     ]
    }
   ],
   "source": [
    "print(*data[0:3], sep='\\n')"
   ]
  },
  {
   "cell_type": "markdown",
   "metadata": {},
   "source": [
    "### Turn into a dataframe and save as csv file"
   ]
  },
  {
   "cell_type": "markdown",
   "metadata": {},
   "source": [
    "We use pandas methods to turn the data records into a data frame and to save it as a csv file:"
   ]
  },
  {
   "cell_type": "code",
   "execution_count": 8,
   "metadata": {},
   "outputs": [],
   "source": [
    "cols = ['date', 'category', 'city', 'bundesland', 'casualties', 'description', 'source', 'source_url']\n",
    "df = pd.DataFrame.from_records(data, columns=cols)\n",
    "df.to_csv('data/mut_gegen_rechte_gewalt.csv', index=False)"
   ]
  },
  {
   "cell_type": "markdown",
   "metadata": {},
   "source": [
    "## 2. Data wrangling and exploration"
   ]
  },
  {
   "cell_type": "markdown",
   "metadata": {},
   "source": [
    "Get a first overview of the data."
   ]
  },
  {
   "cell_type": "code",
   "execution_count": 3,
   "metadata": {},
   "outputs": [
    {
     "name": "stdout",
     "output_type": "stream",
     "text": [
      "<class 'pandas.core.frame.DataFrame'>\n",
      "RangeIndex: 9012 entries, 0 to 9011\n",
      "Data columns (total 8 columns):\n",
      "date           9012 non-null object\n",
      "category       9012 non-null object\n",
      "city           9012 non-null object\n",
      "bundesland     9012 non-null object\n",
      "casualties     611 non-null object\n",
      "description    9012 non-null object\n",
      "source         8258 non-null object\n",
      "source_url     8259 non-null object\n",
      "dtypes: object(8)\n",
      "memory usage: 563.3+ KB\n"
     ]
    }
   ],
   "source": [
    "df.info()"
   ]
  },
  {
   "cell_type": "code",
   "execution_count": 4,
   "metadata": {
    "scrolled": false
   },
   "outputs": [
    {
     "data": {
      "text/html": [
       "<div>\n",
       "<style scoped>\n",
       "    .dataframe tbody tr th:only-of-type {\n",
       "        vertical-align: middle;\n",
       "    }\n",
       "\n",
       "    .dataframe tbody tr th {\n",
       "        vertical-align: top;\n",
       "    }\n",
       "\n",
       "    .dataframe thead th {\n",
       "        text-align: right;\n",
       "    }\n",
       "</style>\n",
       "<table border=\"1\" class=\"dataframe\">\n",
       "  <thead>\n",
       "    <tr style=\"text-align: right;\">\n",
       "      <th></th>\n",
       "      <th>date</th>\n",
       "      <th>category</th>\n",
       "      <th>city</th>\n",
       "      <th>bundesland</th>\n",
       "      <th>casualties</th>\n",
       "      <th>description</th>\n",
       "      <th>source</th>\n",
       "      <th>source_url</th>\n",
       "    </tr>\n",
       "  </thead>\n",
       "  <tbody>\n",
       "    <tr>\n",
       "      <th>0</th>\n",
       "      <td>17.05.2019</td>\n",
       "      <td>Tätlicher Übergriff/Körperverletzung</td>\n",
       "      <td>Prenzlau</td>\n",
       "      <td>Brandenburg</td>\n",
       "      <td>1Verletzte_r</td>\n",
       "      <td>Zwei Deutsche haben am Abend zunächst neben ei...</td>\n",
       "      <td>Nordkurier</td>\n",
       "      <td>{'https://www.nordkurier.de/uckermark/junge-ma...</td>\n",
       "    </tr>\n",
       "    <tr>\n",
       "      <th>1</th>\n",
       "      <td>04.05.2019</td>\n",
       "      <td>Tätlicher Übergriff/Körperverletzung</td>\n",
       "      <td>Querfurt</td>\n",
       "      <td>Sachsen-Anhalt</td>\n",
       "      <td>NaN</td>\n",
       "      <td>Ein 21-jähriger aus Syrien wurde in der Nacht ...</td>\n",
       "      <td>Mitteldeutsche Zeitung</td>\n",
       "      <td>{'https://www.mz-web.de/saalekreis/staatsschut...</td>\n",
       "    </tr>\n",
       "    <tr>\n",
       "      <th>2</th>\n",
       "      <td>01.05.2019</td>\n",
       "      <td>Sonstige Angriffe</td>\n",
       "      <td>Kirchheim</td>\n",
       "      <td>Hessen</td>\n",
       "      <td>NaN</td>\n",
       "      <td>Unbekannte haben in der Nacht Eier gegen die F...</td>\n",
       "      <td>Süddeutsche Zeitung</td>\n",
       "      <td>{'https://www.sueddeutsche.de/muenchen/staatss...</td>\n",
       "    </tr>\n",
       "    <tr>\n",
       "      <th>3</th>\n",
       "      <td>31.03.2019</td>\n",
       "      <td>Verdachtsfall</td>\n",
       "      <td>Lübeck</td>\n",
       "      <td>Schleswig-Holstein</td>\n",
       "      <td>1Verletzte_r</td>\n",
       "      <td>Zwei unbekannte Männer haben einen 27-jährigen...</td>\n",
       "      <td>n-tv</td>\n",
       "      <td>{'https://www.n-tv.de/regionales/hamburg-und-s...</td>\n",
       "    </tr>\n",
       "    <tr>\n",
       "      <th>4</th>\n",
       "      <td>02.03.2019</td>\n",
       "      <td>Tätlicher Übergriff/Körperverletzung</td>\n",
       "      <td>Leipzig</td>\n",
       "      <td>Sachsen</td>\n",
       "      <td>1Verletzte_r</td>\n",
       "      <td>Eine Gruppe von acht Männern hat am Nachmittag...</td>\n",
       "      <td>Peiner Allgemeine</td>\n",
       "      <td>{'http://www.paz-online.de/Nachrichten/Panoram...</td>\n",
       "    </tr>\n",
       "  </tbody>\n",
       "</table>\n",
       "</div>"
      ],
      "text/plain": [
       "         date                              category       city  \\\n",
       "0  17.05.2019  Tätlicher Übergriff/Körperverletzung   Prenzlau   \n",
       "1  04.05.2019  Tätlicher Übergriff/Körperverletzung   Querfurt   \n",
       "2  01.05.2019                     Sonstige Angriffe  Kirchheim   \n",
       "3  31.03.2019                         Verdachtsfall     Lübeck   \n",
       "4  02.03.2019  Tätlicher Übergriff/Körperverletzung    Leipzig   \n",
       "\n",
       "           bundesland    casualties  \\\n",
       "0         Brandenburg  1Verletzte_r   \n",
       "1      Sachsen-Anhalt           NaN   \n",
       "2              Hessen           NaN   \n",
       "3  Schleswig-Holstein  1Verletzte_r   \n",
       "4             Sachsen  1Verletzte_r   \n",
       "\n",
       "                                         description                  source  \\\n",
       "0  Zwei Deutsche haben am Abend zunächst neben ei...              Nordkurier   \n",
       "1  Ein 21-jähriger aus Syrien wurde in der Nacht ...  Mitteldeutsche Zeitung   \n",
       "2  Unbekannte haben in der Nacht Eier gegen die F...     Süddeutsche Zeitung   \n",
       "3  Zwei unbekannte Männer haben einen 27-jährigen...                    n-tv   \n",
       "4  Eine Gruppe von acht Männern hat am Nachmittag...       Peiner Allgemeine   \n",
       "\n",
       "                                          source_url  \n",
       "0  {'https://www.nordkurier.de/uckermark/junge-ma...  \n",
       "1  {'https://www.mz-web.de/saalekreis/staatsschut...  \n",
       "2  {'https://www.sueddeutsche.de/muenchen/staatss...  \n",
       "3  {'https://www.n-tv.de/regionales/hamburg-und-s...  \n",
       "4  {'http://www.paz-online.de/Nachrichten/Panoram...  "
      ]
     },
     "execution_count": 4,
     "metadata": {},
     "output_type": "execute_result"
    }
   ],
   "source": [
    "df.head()"
   ]
  },
  {
   "cell_type": "markdown",
   "metadata": {},
   "source": [
    "### Data cleaning"
   ]
  },
  {
   "cell_type": "code",
   "execution_count": 5,
   "metadata": {
    "scrolled": false
   },
   "outputs": [
    {
     "data": {
      "text/plain": [
       "date           object\n",
       "category       object\n",
       "city           object\n",
       "bundesland     object\n",
       "casualties     object\n",
       "description    object\n",
       "source         object\n",
       "source_url     object\n",
       "dtype: object"
      ]
     },
     "execution_count": 5,
     "metadata": {},
     "output_type": "execute_result"
    }
   ],
   "source": [
    "df.dtypes"
   ]
  },
  {
   "cell_type": "markdown",
   "metadata": {},
   "source": [
    "All columns are of the type \"object\". The least we should do is to turn the date column into a datetime object. In the following steps, each column will be inspected and treated one by one."
   ]
  },
  {
   "cell_type": "markdown",
   "metadata": {},
   "source": [
    "#### Date"
   ]
  },
  {
   "cell_type": "markdown",
   "metadata": {},
   "source": [
    "Change date column to datetime object."
   ]
  },
  {
   "cell_type": "code",
   "execution_count": 6,
   "metadata": {},
   "outputs": [],
   "source": [
    "df['date'] = pd.to_datetime(df['date'], format='%d.%m.%Y')"
   ]
  },
  {
   "cell_type": "markdown",
   "metadata": {},
   "source": [
    "#### Category"
   ]
  },
  {
   "cell_type": "code",
   "execution_count": 7,
   "metadata": {},
   "outputs": [
    {
     "data": {
      "text/plain": [
       "Sonstige Angriffe                       6611\n",
       "Tätlicher Übergriff/Körperverletzung    1482\n",
       "Kundgebung/Demo                          361\n",
       "Verdachtsfall                            286\n",
       "Brandanschlag                            272\n",
       "Name: category, dtype: int64"
      ]
     },
     "execution_count": 7,
     "metadata": {},
     "output_type": "execute_result"
    }
   ],
   "source": [
    "df['category'].value_counts()"
   ]
  },
  {
   "cell_type": "markdown",
   "metadata": {},
   "source": [
    "As the data has been scraped from a German website, the five category names are in German. We will replace the German categories with the English translation."
   ]
  },
  {
   "cell_type": "code",
   "execution_count": 8,
   "metadata": {},
   "outputs": [],
   "source": [
    "mapping_dict = {\n",
    "    'Tätlicher Übergriff/Körperverletzung': 'Assault and battery',\n",
    "    'Brandanschlag': 'Arson attack',\n",
    "    'Kundgebung/Demo': 'Rally/demonstration',\n",
    "    'Sonstige Angriffe': 'Other attacks',\n",
    "    'Verdachtsfall': 'Suspected case'\n",
    "}\n",
    "df['category'] = df['category'].map(mapping_dict)\n",
    "df['category'].value_counts()"
   ]
  },
  {
   "cell_type": "markdown",
   "metadata": {},
   "source": [
    "#### City"
   ]
  },
  {
   "cell_type": "code",
   "execution_count": 10,
   "metadata": {
    "scrolled": true
   },
   "outputs": [
    {
     "data": {
      "text/plain": [
       "2505"
      ]
     },
     "execution_count": 10,
     "metadata": {},
     "output_type": "execute_result"
    }
   ],
   "source": [
    "df['city'].unique().shape[0]"
   ]
  },
  {
   "cell_type": "markdown",
   "metadata": {},
   "source": [
    "There are 2505 unique places in Germany where an attack on refugees occured."
   ]
  },
  {
   "cell_type": "code",
   "execution_count": 11,
   "metadata": {},
   "outputs": [
    {
     "data": {
      "text/plain": [
       "array(['Prenzlau', 'Querfurt', 'Kirchheim', 'Lübeck', 'Leipzig',\n",
       "       'Ahrensburg', 'Marzahn, Berlin', 'Zittau', 'Mühlhausen',\n",
       "       'Plattling', 'Stralsund', 'Hebsack, Remshalden',\n",
       "       'Vaihingen an der Enz', 'Lütten-Klein, Rostock', 'Spremberg',\n",
       "       'Neubrandenburg', 'Bad Oeynhausen', 'Cottbus', 'Düsseldorf',\n",
       "       'Magdeburg'], dtype=object)"
      ]
     },
     "execution_count": 11,
     "metadata": {},
     "output_type": "execute_result"
    }
   ],
   "source": [
    "df['city'].unique()[0:20]"
   ]
  },
  {
   "cell_type": "markdown",
   "metadata": {},
   "source": [
    "#### Bundesland"
   ]
  },
  {
   "cell_type": "code",
   "execution_count": 12,
   "metadata": {
    "scrolled": true
   },
   "outputs": [
    {
     "data": {
      "text/plain": [
       "16"
      ]
     },
     "execution_count": 12,
     "metadata": {},
     "output_type": "execute_result"
    }
   ],
   "source": [
    "df['bundesland'].unique().shape[0]"
   ]
  },
  {
   "cell_type": "code",
   "execution_count": 13,
   "metadata": {},
   "outputs": [
    {
     "data": {
      "text/plain": [
       "array(['Brandenburg', 'Sachsen-Anhalt', 'Hessen', 'Schleswig-Holstein',\n",
       "       'Sachsen', 'Berlin', 'Thüringen', 'Bayern',\n",
       "       'Mecklenburg-Vorpommern', 'Baden-Württemberg',\n",
       "       'Nordrhein-Westfalen', 'Niedersachsen', 'Rheinland-Pfalz',\n",
       "       'Saarland', 'Hamburg', 'Bremen'], dtype=object)"
      ]
     },
     "execution_count": 13,
     "metadata": {},
     "output_type": "execute_result"
    }
   ],
   "source": [
    "df['bundesland'].unique()"
   ]
  },
  {
   "cell_type": "markdown",
   "metadata": {},
   "source": [
    "#### Casualties"
   ]
  },
  {
   "cell_type": "code",
   "execution_count": 14,
   "metadata": {
    "scrolled": true
   },
   "outputs": [
    {
     "data": {
      "text/plain": [
       "0    1Verletzte_r\n",
       "1             NaN\n",
       "2             NaN\n",
       "3    1Verletzte_r\n",
       "4    1Verletzte_r\n",
       "Name: casualties, dtype: object"
      ]
     },
     "execution_count": 14,
     "metadata": {},
     "output_type": "execute_result"
    }
   ],
   "source": [
    "df['casualties'].head()"
   ]
  },
  {
   "cell_type": "markdown",
   "metadata": {},
   "source": [
    "The information is inherently numeric but it is concatenated as a string representation. Let's replace the string representation into numerical values by deleting the characters."
   ]
  },
  {
   "cell_type": "code",
   "execution_count": null,
   "metadata": {},
   "outputs": [],
   "source": [
    "df['casualties'] = df['casualties'].str.replace(r' ?(Verletzte)(_r)?', '').astype(float)\n",
    "df['casualties'].head()"
   ]
  },
  {
   "cell_type": "markdown",
   "metadata": {},
   "source": [
    "How many entries actually do contain casualty numbers?"
   ]
  },
  {
   "cell_type": "code",
   "execution_count": 15,
   "metadata": {
    "scrolled": true
   },
   "outputs": [
    {
     "data": {
      "text/plain": [
       "611"
      ]
     },
     "execution_count": 15,
     "metadata": {},
     "output_type": "execute_result"
    }
   ],
   "source": [
    "df[df['casualties'].notnull()].shape[0]"
   ]
  },
  {
   "cell_type": "markdown",
   "metadata": {},
   "source": [
    "There are only 611 entries which contain information on the number of casualties. I suppose this can be interpreted than in other cases there were (luckily) no casualties. "
   ]
  },
  {
   "cell_type": "markdown",
   "metadata": {},
   "source": [
    "#### Description"
   ]
  },
  {
   "cell_type": "code",
   "execution_count": 18,
   "metadata": {
    "scrolled": true
   },
   "outputs": [
    {
     "name": "stdout",
     "output_type": "stream",
     "text": [
      "Zwei Deutsche haben am Abend zunächst neben einer Asylunterkunft randaliert. Als Kinder, die in der Asylunterkunft leben, sie aufforderten, dies zu unterlassen, betraten die beiden 21- bzw. 23-Jährigen das Gelände der Unterkunft. Einer von ihnen zückte ein Messer und soll laut Polizei \"Stichbewegungen gegen einen tschetschenischen Bewohner ausgeführt haben. Bei der folgenden Rangelei verletzte sich der Tschetschene an der Hand, ein Deutscher erlitt Verletzungen am Bein und musste operiert werden\", so die Polizei weiter. Die Kriminalpolizei ermittelt.\n",
      "\n",
      "Ein 21-jähriger aus Syrien wurde in der Nacht aus einer Gruppe aus fünf oder sechs jungen Deutschen zunächst rassistisch beleidigt und dann auch geschlagen. Als ein 47-jähriger Zeuge dazwischengehen wollte, sollen ihn die Angreifer zurückgestoßen und am Fuß verletzt haben. Der 21-Jährige musste nicht behandelt werden. Die Täter flüchteten, der Staatsschutz ermittelt.\n",
      "\n",
      "Unbekannte haben in der Nacht Eier gegen die Fassade einer Asylunterkunft geworfen. Als ein Mitarbeiter des Sicherheitsdienstes die Täter ansprach, flüchteten sie.\n"
     ]
    }
   ],
   "source": [
    "print(*df['description'].head(3), sep='\\n\\n')"
   ]
  },
  {
   "cell_type": "markdown",
   "metadata": {},
   "source": [
    "#### Source"
   ]
  },
  {
   "cell_type": "code",
   "execution_count": 20,
   "metadata": {
    "scrolled": false
   },
   "outputs": [
    {
     "data": {
      "text/plain": [
       "596"
      ]
     },
     "execution_count": 20,
     "metadata": {},
     "output_type": "execute_result"
    }
   ],
   "source": [
    "df['source'].unique().shape[0]"
   ]
  },
  {
   "cell_type": "code",
   "execution_count": 21,
   "metadata": {},
   "outputs": [
    {
     "data": {
      "text/plain": [
       "Antwort auf eine Kleine Anfrage im Bundestag (Drucksache 18/11298)          1957\n",
       "Antwort auf eine Kleine Anfrage im Bundestag (Drucksache 18/10213)           762\n",
       "Bundesregierung                                                              662\n",
       "Antwort der Bundesregierung (Drucksache 19/144)                              478\n",
       "Antwort der Bundesregierung (Drucksache 19/146)                              417\n",
       "Antwort der Bundesregierung auf eine Kleine Anfrage (Drucksache 19/889)      352\n",
       "Antwort der Bundesregierung auf eine Kleine Anfrage (Drucksache 19/3753)     329\n",
       "Antwort der Bundesregierung auf eine Kleine Anfrage (Drucksache 19/5516)     324\n",
       "Antwort der Bundesregierung auf eine Kleine Anfrage (Drucksache 19/2490)     315\n",
       "Antwort auf eine Kleine Anfrage im Bundestag (Drucksache 19/889)             234\n",
       "Name: source, dtype: int64"
      ]
     },
     "execution_count": 21,
     "metadata": {},
     "output_type": "execute_result"
    }
   ],
   "source": [
    "df['source'].value_counts()[0:10]"
   ]
  },
  {
   "cell_type": "markdown",
   "metadata": {},
   "source": [
    "There are 596 different sources, but the most common ones are related to answers from the Bundesregierung. A further inspection reveals that events documented are quite common, too. Therefore we will categorize the variable source into three categories: government, police, others. "
   ]
  },
  {
   "cell_type": "code",
   "execution_count": 22,
   "metadata": {},
   "outputs": [],
   "source": [
    "# Initialise column\n",
    "df['source_category'] = df['source']\n",
    "\n",
    "# Replace null values by empty string (otherwise boolean indexing will throw an arrow because of boolean indexing)\n",
    "df.loc[pd.isnull(df['source_category']), 'source_category'] = ''\n",
    "\n",
    "# Replace respective values\n",
    "df.loc[df['source_category'].str.contains(r'Anfrage|Bundesregierung'), 'source_category'] = 'government'\n",
    "df.loc[df['source_category'].str.contains(r'[Pp]olizei'), 'source_category'] = 'police'\n",
    "df.loc[~df['source_category'].str.contains(r'government|police|^$'), 'source_category'] = 'other'\n",
    "\n",
    "# Replace null values by empty string\n",
    "df.loc[df['source_category'] == '', 'source_category'] = ''"
   ]
  },
  {
   "cell_type": "code",
   "execution_count": 23,
   "metadata": {
    "scrolled": true
   },
   "outputs": [
    {
     "data": {
      "text/plain": [
       "government    6287\n",
       "other         1683\n",
       "               754\n",
       "police         288\n",
       "Name: source_category, dtype: int64"
      ]
     },
     "execution_count": 23,
     "metadata": {},
     "output_type": "execute_result"
    }
   ],
   "source": [
    "df['source_category'].value_counts(dropna = False)"
   ]
  },
  {
   "cell_type": "markdown",
   "metadata": {},
   "source": [
    "Out of all sources, the vast amount belong to governmental reports (6,287), and a considerate amount to police reports (288). The category \"other\" includes mostly media and NGOs. Around 10% of the events do not contain information on the source. "
   ]
  },
  {
   "cell_type": "markdown",
   "metadata": {},
   "source": [
    "#### Source url"
   ]
  },
  {
   "cell_type": "code",
   "execution_count": 24,
   "metadata": {
    "scrolled": true
   },
   "outputs": [
    {
     "name": "stdout",
     "output_type": "stream",
     "text": [
      "{'https://www.nordkurier.de/uckermark/junge-maenner-in-prenzlau-randalieren-1935542005.html'}\n",
      "{'https://www.mz-web.de/saalekreis/staatsschutz-ermittelt-junger-syrer-rassistisch-beschimpft-und-attackiert-32472432'}\n",
      "{'https://www.sueddeutsche.de/muenchen/staatsschutz-ermittelt-angriffe-auf-fluechtlinge-und-ein-drohbrief-1.4429977'}\n",
      "{'https://www.n-tv.de/regionales/hamburg-und-schleswig-holstein/Syrer-mit-Glasflasche-attackiert-Fremdenfeindliches-Motiv-article20957339.html'}\n",
      "{'http://www.paz-online.de/Nachrichten/Panorama/Auslaenderfeindlicher-Attacke-Acht-betrunkene-Maenner-verpruegeln-Asylbewerber'}\n"
     ]
    }
   ],
   "source": [
    "print(*df['source_url'].head(), sep='\\n')"
   ]
  },
  {
   "cell_type": "markdown",
   "metadata": {},
   "source": [
    "Delete the curly brackets:"
   ]
  },
  {
   "cell_type": "code",
   "execution_count": null,
   "metadata": {},
   "outputs": [],
   "source": [
    "df['source_url'] = df['source_url'].str.replace(r\"(\\{')?('\\})?\", '')\n",
    "print(*df['source_url'].head(), sep='\\n')"
   ]
  },
  {
   "cell_type": "markdown",
   "metadata": {},
   "source": [
    "### Final checkup"
   ]
  },
  {
   "cell_type": "code",
   "execution_count": 27,
   "metadata": {},
   "outputs": [
    {
     "name": "stdout",
     "output_type": "stream",
     "text": [
      "<class 'pandas.core.frame.DataFrame'>\n",
      "RangeIndex: 9012 entries, 0 to 9011\n",
      "Data columns (total 9 columns):\n",
      "date               9012 non-null datetime64[ns]\n",
      "category           9012 non-null object\n",
      "city               9012 non-null object\n",
      "bundesland         9012 non-null object\n",
      "casualties         611 non-null float64\n",
      "description        9012 non-null object\n",
      "source             8258 non-null object\n",
      "source_url         8259 non-null object\n",
      "source_category    9012 non-null object\n",
      "dtypes: datetime64[ns](1), float64(1), object(7)\n",
      "memory usage: 633.7+ KB\n"
     ]
    }
   ],
   "source": [
    "df.info()"
   ]
  },
  {
   "cell_type": "code",
   "execution_count": 28,
   "metadata": {},
   "outputs": [
    {
     "data": {
      "text/plain": [
       "date               datetime64[ns]\n",
       "category                   object\n",
       "city                       object\n",
       "bundesland                 object\n",
       "casualties                float64\n",
       "description                object\n",
       "source                     object\n",
       "source_url                 object\n",
       "source_category            object\n",
       "dtype: object"
      ]
     },
     "execution_count": 28,
     "metadata": {},
     "output_type": "execute_result"
    }
   ],
   "source": [
    "df.dtypes"
   ]
  },
  {
   "cell_type": "code",
   "execution_count": 29,
   "metadata": {
    "scrolled": false
   },
   "outputs": [
    {
     "data": {
      "text/html": [
       "<div>\n",
       "<style scoped>\n",
       "    .dataframe tbody tr th:only-of-type {\n",
       "        vertical-align: middle;\n",
       "    }\n",
       "\n",
       "    .dataframe tbody tr th {\n",
       "        vertical-align: top;\n",
       "    }\n",
       "\n",
       "    .dataframe thead th {\n",
       "        text-align: right;\n",
       "    }\n",
       "</style>\n",
       "<table border=\"1\" class=\"dataframe\">\n",
       "  <thead>\n",
       "    <tr style=\"text-align: right;\">\n",
       "      <th></th>\n",
       "      <th>date</th>\n",
       "      <th>category</th>\n",
       "      <th>city</th>\n",
       "      <th>bundesland</th>\n",
       "      <th>casualties</th>\n",
       "      <th>description</th>\n",
       "      <th>source</th>\n",
       "      <th>source_url</th>\n",
       "      <th>source_category</th>\n",
       "    </tr>\n",
       "  </thead>\n",
       "  <tbody>\n",
       "    <tr>\n",
       "      <th>0</th>\n",
       "      <td>2019-05-17</td>\n",
       "      <td>Assault and battery</td>\n",
       "      <td>Prenzlau</td>\n",
       "      <td>Brandenburg</td>\n",
       "      <td>1.0</td>\n",
       "      <td>Zwei Deutsche haben am Abend zunächst neben ei...</td>\n",
       "      <td>Nordkurier</td>\n",
       "      <td>https://www.nordkurier.de/uckermark/junge-maen...</td>\n",
       "      <td>other</td>\n",
       "    </tr>\n",
       "    <tr>\n",
       "      <th>1</th>\n",
       "      <td>2019-05-04</td>\n",
       "      <td>Assault and battery</td>\n",
       "      <td>Querfurt</td>\n",
       "      <td>Sachsen-Anhalt</td>\n",
       "      <td>NaN</td>\n",
       "      <td>Ein 21-jähriger aus Syrien wurde in der Nacht ...</td>\n",
       "      <td>Mitteldeutsche Zeitung</td>\n",
       "      <td>https://www.mz-web.de/saalekreis/staatsschutz-...</td>\n",
       "      <td>other</td>\n",
       "    </tr>\n",
       "    <tr>\n",
       "      <th>2</th>\n",
       "      <td>2019-05-01</td>\n",
       "      <td>Other attacks</td>\n",
       "      <td>Kirchheim</td>\n",
       "      <td>Hessen</td>\n",
       "      <td>NaN</td>\n",
       "      <td>Unbekannte haben in der Nacht Eier gegen die F...</td>\n",
       "      <td>Süddeutsche Zeitung</td>\n",
       "      <td>https://www.sueddeutsche.de/muenchen/staatssch...</td>\n",
       "      <td>other</td>\n",
       "    </tr>\n",
       "    <tr>\n",
       "      <th>3</th>\n",
       "      <td>2019-03-31</td>\n",
       "      <td>Suspected case</td>\n",
       "      <td>Lübeck</td>\n",
       "      <td>Schleswig-Holstein</td>\n",
       "      <td>1.0</td>\n",
       "      <td>Zwei unbekannte Männer haben einen 27-jährigen...</td>\n",
       "      <td>n-tv</td>\n",
       "      <td>https://www.n-tv.de/regionales/hamburg-und-sch...</td>\n",
       "      <td>other</td>\n",
       "    </tr>\n",
       "    <tr>\n",
       "      <th>4</th>\n",
       "      <td>2019-03-02</td>\n",
       "      <td>Assault and battery</td>\n",
       "      <td>Leipzig</td>\n",
       "      <td>Sachsen</td>\n",
       "      <td>1.0</td>\n",
       "      <td>Eine Gruppe von acht Männern hat am Nachmittag...</td>\n",
       "      <td>Peiner Allgemeine</td>\n",
       "      <td>http://www.paz-online.de/Nachrichten/Panorama/...</td>\n",
       "      <td>other</td>\n",
       "    </tr>\n",
       "  </tbody>\n",
       "</table>\n",
       "</div>"
      ],
      "text/plain": [
       "        date             category       city          bundesland  casualties  \\\n",
       "0 2019-05-17  Assault and battery   Prenzlau         Brandenburg         1.0   \n",
       "1 2019-05-04  Assault and battery   Querfurt      Sachsen-Anhalt         NaN   \n",
       "2 2019-05-01        Other attacks  Kirchheim              Hessen         NaN   \n",
       "3 2019-03-31       Suspected case     Lübeck  Schleswig-Holstein         1.0   \n",
       "4 2019-03-02  Assault and battery    Leipzig             Sachsen         1.0   \n",
       "\n",
       "                                         description                  source  \\\n",
       "0  Zwei Deutsche haben am Abend zunächst neben ei...              Nordkurier   \n",
       "1  Ein 21-jähriger aus Syrien wurde in der Nacht ...  Mitteldeutsche Zeitung   \n",
       "2  Unbekannte haben in der Nacht Eier gegen die F...     Süddeutsche Zeitung   \n",
       "3  Zwei unbekannte Männer haben einen 27-jährigen...                    n-tv   \n",
       "4  Eine Gruppe von acht Männern hat am Nachmittag...       Peiner Allgemeine   \n",
       "\n",
       "                                          source_url source_category  \n",
       "0  https://www.nordkurier.de/uckermark/junge-maen...           other  \n",
       "1  https://www.mz-web.de/saalekreis/staatsschutz-...           other  \n",
       "2  https://www.sueddeutsche.de/muenchen/staatssch...           other  \n",
       "3  https://www.n-tv.de/regionales/hamburg-und-sch...           other  \n",
       "4  http://www.paz-online.de/Nachrichten/Panorama/...           other  "
      ]
     },
     "execution_count": 29,
     "metadata": {},
     "output_type": "execute_result"
    }
   ],
   "source": [
    "df.head()"
   ]
  },
  {
   "cell_type": "markdown",
   "metadata": {},
   "source": [
    "### Additional data"
   ]
  },
  {
   "cell_type": "markdown",
   "metadata": {},
   "source": [
    "#### Population by Bundesland (for standardization) \n",
    "\n",
    "In order to standardize the absolute number of attacks in a Bundesland by the population, we will merge official data from the Federal Statistical Office of Germany (source: https://www-genesis.destatis.de/genesis/online)."
   ]
  },
  {
   "cell_type": "code",
   "execution_count": 30,
   "metadata": {},
   "outputs": [],
   "source": [
    "pop = pd.read_csv('data/12411-0010.csv', \n",
    "                 sep=\";\", \n",
    "                 skiprows=6, \n",
    "                 nrows=16,\n",
    "                 header=None, \n",
    "                 encoding=\"cp1250\",\n",
    "                 names=['bundesland', 'population'])\n",
    "df.sort_values('bundesland')['bundesland'].unique()"
   ]
  },
  {
   "cell_type": "code",
   "execution_count": 32,
   "metadata": {
    "scrolled": true
   },
   "outputs": [
    {
     "data": {
      "text/plain": [
       "0          Baden-Württemberg\n",
       "1                     Bayern\n",
       "2                     Berlin\n",
       "3                Brandenburg\n",
       "4                     Bremen\n",
       "5                    Hamburg\n",
       "6                     Hessen\n",
       "7     Mecklenburg-Vorpommern\n",
       "8              Niedersachsen\n",
       "9        Nordrhein-Westfalen\n",
       "10           Rheinland-Pfalz\n",
       "11                  Saarland\n",
       "12                   Sachsen\n",
       "13            Sachsen-Anhalt\n",
       "14        Schleswig-Holstein\n",
       "15                 Thüringen\n",
       "Name: bundesland, dtype: object"
      ]
     },
     "execution_count": 32,
     "metadata": {},
     "output_type": "execute_result"
    }
   ],
   "source": [
    "pop['bundesland']"
   ]
  },
  {
   "cell_type": "code",
   "execution_count": 33,
   "metadata": {},
   "outputs": [],
   "source": [
    "df = df.merge(pop, on='bundesland', how='left')\n",
    "df.info()"
   ]
  },
  {
   "cell_type": "markdown",
   "metadata": {},
   "source": [
    "#### Official statistics on numbers of refugees\n",
    "\n",
    "Furthermore, official statistics on the monthly number of refugees are included in the analysis. These numbers are published by the Federal Office for Migration and Refugees, unfortunately in PDF format. However, a local initiative from Munich turns these documents into machine readable csv documents and makes them available online: https://github.com/muc-fluechtlingsrat/bamf-asylgeschaeftsstatistik. Moreover, they via the Freedom of Information Act they got access to data from before 2017 which was not published by the Federal Office for Migration and Refugees. \n",
    "\n",
    "I obtained the data needed for this analysis with an R script (get it here). Here, we only need to load the data:"
   ]
  },
  {
   "cell_type": "code",
   "execution_count": 35,
   "metadata": {},
   "outputs": [],
   "source": [
    "statistik = pd.read_csv('data/asylmonatszahlen.csv')\n",
    "statistik.head()"
   ]
  },
  {
   "cell_type": "markdown",
   "metadata": {},
   "source": [
    "The steps of preparing this data set for analysis are done in the following section."
   ]
  },
  {
   "cell_type": "markdown",
   "metadata": {},
   "source": [
    "## 3. Analysing the data from \"Chronik flüchtlingsfeindlicher Vorfälle\""
   ]
  },
  {
   "cell_type": "markdown",
   "metadata": {},
   "source": [
    "### Attacks over time"
   ]
  },
  {
   "cell_type": "markdown",
   "metadata": {},
   "source": [
    "First, let's prepare the data from the \"Chronik\": aggregate by month (setting date as index) and count number of attacks."
   ]
  },
  {
   "cell_type": "code",
   "execution_count": 3,
   "metadata": {},
   "outputs": [
    {
     "data": {
      "text/html": [
       "<div>\n",
       "<style scoped>\n",
       "    .dataframe tbody tr th:only-of-type {\n",
       "        vertical-align: middle;\n",
       "    }\n",
       "\n",
       "    .dataframe tbody tr th {\n",
       "        vertical-align: top;\n",
       "    }\n",
       "\n",
       "    .dataframe thead th {\n",
       "        text-align: right;\n",
       "    }\n",
       "</style>\n",
       "<table border=\"1\" class=\"dataframe\">\n",
       "  <thead>\n",
       "    <tr style=\"text-align: right;\">\n",
       "      <th></th>\n",
       "      <th>n_attacks</th>\n",
       "    </tr>\n",
       "  </thead>\n",
       "  <tbody>\n",
       "    <tr>\n",
       "      <th>Jan 2015</th>\n",
       "      <td>78</td>\n",
       "    </tr>\n",
       "    <tr>\n",
       "      <th>Feb 2015</th>\n",
       "      <td>52</td>\n",
       "    </tr>\n",
       "    <tr>\n",
       "      <th>Mar 2015</th>\n",
       "      <td>77</td>\n",
       "    </tr>\n",
       "    <tr>\n",
       "      <th>Apr 2015</th>\n",
       "      <td>69</td>\n",
       "    </tr>\n",
       "    <tr>\n",
       "      <th>May 2015</th>\n",
       "      <td>76</td>\n",
       "    </tr>\n",
       "  </tbody>\n",
       "</table>\n",
       "</div>"
      ],
      "text/plain": [
       "          n_attacks\n",
       "Jan 2015         78\n",
       "Feb 2015         52\n",
       "Mar 2015         77\n",
       "Apr 2015         69\n",
       "May 2015         76"
      ]
     },
     "execution_count": 3,
     "metadata": {},
     "output_type": "execute_result"
    }
   ],
   "source": [
    "df['date'] = pd.to_datetime(df['date'])\n",
    "df_date = df.resample('M', on='date')[['date']].count()\n",
    "df_date.index = df_date.index.strftime('%b %Y')\n",
    "df_date.columns = ['n_attacks']\n",
    "df_date.head()"
   ]
  },
  {
   "cell_type": "markdown",
   "metadata": {},
   "source": [
    "Prepare the data on monthly number of refugees by formatting it like above."
   ]
  },
  {
   "cell_type": "code",
   "execution_count": 4,
   "metadata": {},
   "outputs": [
    {
     "data": {
      "text/html": [
       "<div>\n",
       "<style scoped>\n",
       "    .dataframe tbody tr th:only-of-type {\n",
       "        vertical-align: middle;\n",
       "    }\n",
       "\n",
       "    .dataframe tbody tr th {\n",
       "        vertical-align: top;\n",
       "    }\n",
       "\n",
       "    .dataframe thead th {\n",
       "        text-align: right;\n",
       "    }\n",
       "</style>\n",
       "<table border=\"1\" class=\"dataframe\">\n",
       "  <thead>\n",
       "    <tr style=\"text-align: right;\">\n",
       "      <th></th>\n",
       "      <th>n_refugees</th>\n",
       "    </tr>\n",
       "  </thead>\n",
       "  <tbody>\n",
       "    <tr>\n",
       "      <th>Jan 2015</th>\n",
       "      <td>25042</td>\n",
       "    </tr>\n",
       "    <tr>\n",
       "      <th>Feb 2015</th>\n",
       "      <td>26083</td>\n",
       "    </tr>\n",
       "    <tr>\n",
       "      <th>Mar 2015</th>\n",
       "      <td>32054</td>\n",
       "    </tr>\n",
       "    <tr>\n",
       "      <th>Apr 2015</th>\n",
       "      <td>27178</td>\n",
       "    </tr>\n",
       "    <tr>\n",
       "      <th>May 2015</th>\n",
       "      <td>25992</td>\n",
       "    </tr>\n",
       "  </tbody>\n",
       "</table>\n",
       "</div>"
      ],
      "text/plain": [
       "          n_refugees\n",
       "Jan 2015       25042\n",
       "Feb 2015       26083\n",
       "Mar 2015       32054\n",
       "Apr 2015       27178\n",
       "May 2015       25992"
      ]
     },
     "execution_count": 4,
     "metadata": {},
     "output_type": "execute_result"
    }
   ],
   "source": [
    "statistik['date'] = pd.to_datetime(statistik['date'])\n",
    "statistik = statistik.resample('M', on='date').sum()\n",
    "statistik.index = statistik.index.strftime('%b %Y')\n",
    "statistik.columns = ['n_refugees']\n",
    "statistik.head()"
   ]
  },
  {
   "cell_type": "markdown",
   "metadata": {},
   "source": [
    "Merge both data sets:"
   ]
  },
  {
   "cell_type": "code",
   "execution_count": 5,
   "metadata": {
    "scrolled": true
   },
   "outputs": [
    {
     "data": {
      "text/html": [
       "<div>\n",
       "<style scoped>\n",
       "    .dataframe tbody tr th:only-of-type {\n",
       "        vertical-align: middle;\n",
       "    }\n",
       "\n",
       "    .dataframe tbody tr th {\n",
       "        vertical-align: top;\n",
       "    }\n",
       "\n",
       "    .dataframe thead th {\n",
       "        text-align: right;\n",
       "    }\n",
       "</style>\n",
       "<table border=\"1\" class=\"dataframe\">\n",
       "  <thead>\n",
       "    <tr style=\"text-align: right;\">\n",
       "      <th></th>\n",
       "      <th>n_attacks</th>\n",
       "      <th>n_refugees</th>\n",
       "    </tr>\n",
       "  </thead>\n",
       "  <tbody>\n",
       "    <tr>\n",
       "      <th>Jan 2015</th>\n",
       "      <td>78</td>\n",
       "      <td>25042.0</td>\n",
       "    </tr>\n",
       "    <tr>\n",
       "      <th>Feb 2015</th>\n",
       "      <td>52</td>\n",
       "      <td>26083.0</td>\n",
       "    </tr>\n",
       "    <tr>\n",
       "      <th>Mar 2015</th>\n",
       "      <td>77</td>\n",
       "      <td>32054.0</td>\n",
       "    </tr>\n",
       "    <tr>\n",
       "      <th>Apr 2015</th>\n",
       "      <td>69</td>\n",
       "      <td>27178.0</td>\n",
       "    </tr>\n",
       "    <tr>\n",
       "      <th>May 2015</th>\n",
       "      <td>76</td>\n",
       "      <td>25992.0</td>\n",
       "    </tr>\n",
       "  </tbody>\n",
       "</table>\n",
       "</div>"
      ],
      "text/plain": [
       "          n_attacks  n_refugees\n",
       "Jan 2015         78     25042.0\n",
       "Feb 2015         52     26083.0\n",
       "Mar 2015         77     32054.0\n",
       "Apr 2015         69     27178.0\n",
       "May 2015         76     25992.0"
      ]
     },
     "execution_count": 5,
     "metadata": {},
     "output_type": "execute_result"
    }
   ],
   "source": [
    "combined = df_date.merge(statistik, how='left', left_index=True, right_index=True)\n",
    "combined = combined.dropna()\n",
    "combined.head()"
   ]
  },
  {
   "cell_type": "markdown",
   "metadata": {},
   "source": [
    "Finally, we are ready to plot the data:"
   ]
  },
  {
   "cell_type": "code",
   "execution_count": 31,
   "metadata": {},
   "outputs": [
    {
     "data": {
      "image/png": "[encoded data removed]",
      "text/plain": [
       "<Figure size 432x288 with 2 Axes>"
      ]
     },
     "metadata": {
      "needs_background": "light"
     },
     "output_type": "display_data"
    }
   ],
   "source": [
    "# Define plot\n",
    "ax1 = combined['n_attacks'].plot(color = '#0173b2')\n",
    "ax2 = plt.twinx()\n",
    "combined['n_refugees'].plot(color='#de8f05', ax=ax2)\n",
    "# Set grid lines\n",
    "ax1.xaxis.grid(True)\n",
    "ax1.yaxis.grid(True)\n",
    "# Set labels\n",
    "plt.title('')\n",
    "ax1.set_ylabel('Number of attacks')\n",
    "ax2.set_ylabel('Number of refugees')\n",
    "# Turn axis ticks off\n",
    "ax1.tick_params(axis=u'both', which=u'both',length=0)\n",
    "ax2.tick_params(axis=u'both', which=u'both',length=0)\n",
    "# Set legend\n",
    "ax1.set_label('lkmkl')\n",
    "legend = ax1.figure.legend(loc='upper right', bbox_to_anchor=(0.7, 0.7))\n",
    "legend.get_texts()[0].set_text('Attacks')\n",
    "legend.get_texts()[1].set_text('Refugees')\n",
    "# Avoid clipping of right y labels\n",
    "plt.tight_layout()\n",
    "# Remove frame \n",
    "sns.despine(top=True, right=True, left=True, bottom=True);"
   ]
  },
  {
   "cell_type": "markdown",
   "metadata": {},
   "source": [
    "### Attacks by Bundesland"
   ]
  },
  {
   "cell_type": "markdown",
   "metadata": {},
   "source": [
    "Group the number of attacks by Bundesland:"
   ]
  },
  {
   "cell_type": "code",
   "execution_count": 7,
   "metadata": {},
   "outputs": [
    {
     "data": {
      "text/html": [
       "<div>\n",
       "<style scoped>\n",
       "    .dataframe tbody tr th:only-of-type {\n",
       "        vertical-align: middle;\n",
       "    }\n",
       "\n",
       "    .dataframe tbody tr th {\n",
       "        vertical-align: top;\n",
       "    }\n",
       "\n",
       "    .dataframe thead th {\n",
       "        text-align: right;\n",
       "    }\n",
       "</style>\n",
       "<table border=\"1\" class=\"dataframe\">\n",
       "  <thead>\n",
       "    <tr style=\"text-align: right;\">\n",
       "      <th></th>\n",
       "      <th>bundesland</th>\n",
       "      <th>n</th>\n",
       "    </tr>\n",
       "  </thead>\n",
       "  <tbody>\n",
       "    <tr>\n",
       "      <th>12</th>\n",
       "      <td>Sachsen</td>\n",
       "      <td>1406</td>\n",
       "    </tr>\n",
       "    <tr>\n",
       "      <th>1</th>\n",
       "      <td>Bayern</td>\n",
       "      <td>1057</td>\n",
       "    </tr>\n",
       "    <tr>\n",
       "      <th>9</th>\n",
       "      <td>Nordrhein-Westfalen</td>\n",
       "      <td>968</td>\n",
       "    </tr>\n",
       "    <tr>\n",
       "      <th>3</th>\n",
       "      <td>Brandenburg</td>\n",
       "      <td>930</td>\n",
       "    </tr>\n",
       "    <tr>\n",
       "      <th>0</th>\n",
       "      <td>Baden-Württemberg</td>\n",
       "      <td>803</td>\n",
       "    </tr>\n",
       "    <tr>\n",
       "      <th>2</th>\n",
       "      <td>Berlin</td>\n",
       "      <td>701</td>\n",
       "    </tr>\n",
       "    <tr>\n",
       "      <th>8</th>\n",
       "      <td>Niedersachsen</td>\n",
       "      <td>642</td>\n",
       "    </tr>\n",
       "    <tr>\n",
       "      <th>13</th>\n",
       "      <td>Sachsen-Anhalt</td>\n",
       "      <td>539</td>\n",
       "    </tr>\n",
       "    <tr>\n",
       "      <th>15</th>\n",
       "      <td>Thüringen</td>\n",
       "      <td>486</td>\n",
       "    </tr>\n",
       "    <tr>\n",
       "      <th>14</th>\n",
       "      <td>Schleswig-Holstein</td>\n",
       "      <td>398</td>\n",
       "    </tr>\n",
       "    <tr>\n",
       "      <th>7</th>\n",
       "      <td>Mecklenburg-Vorpommern</td>\n",
       "      <td>388</td>\n",
       "    </tr>\n",
       "    <tr>\n",
       "      <th>6</th>\n",
       "      <td>Hessen</td>\n",
       "      <td>251</td>\n",
       "    </tr>\n",
       "    <tr>\n",
       "      <th>10</th>\n",
       "      <td>Rheinland-Pfalz</td>\n",
       "      <td>228</td>\n",
       "    </tr>\n",
       "    <tr>\n",
       "      <th>5</th>\n",
       "      <td>Hamburg</td>\n",
       "      <td>121</td>\n",
       "    </tr>\n",
       "    <tr>\n",
       "      <th>11</th>\n",
       "      <td>Saarland</td>\n",
       "      <td>69</td>\n",
       "    </tr>\n",
       "    <tr>\n",
       "      <th>4</th>\n",
       "      <td>Bremen</td>\n",
       "      <td>25</td>\n",
       "    </tr>\n",
       "  </tbody>\n",
       "</table>\n",
       "</div>"
      ],
      "text/plain": [
       "                bundesland     n\n",
       "12                 Sachsen  1406\n",
       "1                   Bayern  1057\n",
       "9      Nordrhein-Westfalen   968\n",
       "3              Brandenburg   930\n",
       "0        Baden-Württemberg   803\n",
       "2                   Berlin   701\n",
       "8            Niedersachsen   642\n",
       "13          Sachsen-Anhalt   539\n",
       "15               Thüringen   486\n",
       "14      Schleswig-Holstein   398\n",
       "7   Mecklenburg-Vorpommern   388\n",
       "6                   Hessen   251\n",
       "10         Rheinland-Pfalz   228\n",
       "5                  Hamburg   121\n",
       "11                Saarland    69\n",
       "4                   Bremen    25"
      ]
     },
     "execution_count": 7,
     "metadata": {},
     "output_type": "execute_result"
    }
   ],
   "source": [
    "df_bundesland = df.groupby('bundesland').size().reset_index(name='n').sort_values('n', ascending=False)\n",
    "df_bundesland"
   ]
  },
  {
   "cell_type": "markdown",
   "metadata": {},
   "source": [
    "Create a variable indicating if a Bundesland is in Eastern or Western Germany (for coloring in plot):"
   ]
  },
  {
   "cell_type": "code",
   "execution_count": 8,
   "metadata": {},
   "outputs": [
    {
     "data": {
      "text/plain": [
       "West    10\n",
       "East     6\n",
       "Name: east_west, dtype: int64"
      ]
     },
     "execution_count": 8,
     "metadata": {},
     "output_type": "execute_result"
    }
   ],
   "source": [
    "east = ['Brandenburg', 'Sachsen', 'Mecklenburg-Vorpommern', 'Sachsen-Anhalt', 'Thüringen', 'Berlin']\n",
    "df_bundesland['east_west'] = df_bundesland['bundesland'].apply(lambda x: 'East' if x in east else 'West')\n",
    "df_bundesland['east_west'].value_counts()"
   ]
  },
  {
   "cell_type": "code",
   "execution_count": 9,
   "metadata": {},
   "outputs": [
    {
     "data": {
      "image/png": "[encoded data removed]",
      "text/plain": [
       "<Figure size 432x288 with 1 Axes>"
      ]
     },
     "metadata": {
      "needs_background": "light"
     },
     "output_type": "display_data"
    }
   ],
   "source": [
    "# Define plot\n",
    "ax = plt.axes()\n",
    "sns.barplot(x='n', y='bundesland', data=df_bundesland, hue='east_west', dodge=False)\n",
    "# Set grid lines\n",
    "ax.xaxis.grid(True)\n",
    "# Set labels\n",
    "plt.title('Absolute number of attacks per Bundesland')\n",
    "plt.xlabel('')\n",
    "plt.ylabel('')\n",
    "# Remove legend title\n",
    "plt.legend(title='')\n",
    "# Turn axis ticks off\n",
    "ax.tick_params(axis=u'both', which=u'both',length=0)\n",
    "# Remove y axis ticks\n",
    "ax.tick_params(left=False)\n",
    "# Remove frame \n",
    "sns.despine(top=True, right=True, left=True, bottom=True);"
   ]
  },
  {
   "cell_type": "markdown",
   "metadata": {},
   "source": [
    "### Attacks by Bundesland (standardized by population)"
   ]
  },
  {
   "cell_type": "markdown",
   "metadata": {},
   "source": [
    "Compute standardized attack rate (100000 attacks per person):"
   ]
  },
  {
   "cell_type": "code",
   "execution_count": 10,
   "metadata": {},
   "outputs": [],
   "source": [
    "pop_bundesland = df.groupby('population', as_index=False).first()[['bundesland', 'population']]\n",
    "df_bundesland = df_bundesland.merge(pop_bundesland, on='bundesland', how='left')\n",
    "df_bundesland['n_std'] = df_bundesland['n'] * 100000 / df_bundesland['population']\n",
    "df_bundesland = df_bundesland.sort_values('n_std', ascending=False)"
   ]
  },
  {
   "cell_type": "code",
   "execution_count": 11,
   "metadata": {},
   "outputs": [
    {
     "data": {
      "image/png": "[encoded data removed]",
      "text/plain": [
       "<Figure size 432x288 with 1 Axes>"
      ]
     },
     "metadata": {
      "needs_background": "light"
     },
     "output_type": "display_data"
    }
   ],
   "source": [
    "# Define plot\n",
    "ax = plt.axes()\n",
    "sns.barplot(x='n_std', y='bundesland', data=df_bundesland, hue='east_west', dodge=False)\n",
    "# Set grid lines\n",
    "ax.xaxis.grid(True)\n",
    "# Set labels\n",
    "plt.title('Standardized attack rate per Bundesland')\n",
    "plt.xlabel('100,000 attacks per person')\n",
    "plt.ylabel('')\n",
    "# Remove legend title\n",
    "plt.legend(title='')\n",
    "# Turn axis ticks off\n",
    "ax.tick_params(axis=u'both', which=u'both',length=0)\n",
    "# Remove y axis ticks\n",
    "ax.tick_params(left=False)\n",
    "# Remove frame \n",
    "sns.despine(top=True, right=True, left=True, bottom=True);"
   ]
  },
  {
   "cell_type": "markdown",
   "metadata": {},
   "source": [
    "### Attacks by category"
   ]
  },
  {
   "cell_type": "code",
   "execution_count": 12,
   "metadata": {
    "scrolled": true
   },
   "outputs": [
    {
     "data": {
      "text/html": [
       "<div>\n",
       "<style scoped>\n",
       "    .dataframe tbody tr th:only-of-type {\n",
       "        vertical-align: middle;\n",
       "    }\n",
       "\n",
       "    .dataframe tbody tr th {\n",
       "        vertical-align: top;\n",
       "    }\n",
       "\n",
       "    .dataframe thead th {\n",
       "        text-align: right;\n",
       "    }\n",
       "</style>\n",
       "<table border=\"1\" class=\"dataframe\">\n",
       "  <thead>\n",
       "    <tr style=\"text-align: right;\">\n",
       "      <th></th>\n",
       "      <th>category</th>\n",
       "      <th>n</th>\n",
       "    </tr>\n",
       "  </thead>\n",
       "  <tbody>\n",
       "    <tr>\n",
       "      <th>2</th>\n",
       "      <td>Other attacks</td>\n",
       "      <td>6611</td>\n",
       "    </tr>\n",
       "    <tr>\n",
       "      <th>1</th>\n",
       "      <td>Assault and battery</td>\n",
       "      <td>1482</td>\n",
       "    </tr>\n",
       "    <tr>\n",
       "      <th>3</th>\n",
       "      <td>Rally/demonstration</td>\n",
       "      <td>361</td>\n",
       "    </tr>\n",
       "    <tr>\n",
       "      <th>4</th>\n",
       "      <td>Suspected case</td>\n",
       "      <td>286</td>\n",
       "    </tr>\n",
       "    <tr>\n",
       "      <th>0</th>\n",
       "      <td>Arson attack</td>\n",
       "      <td>272</td>\n",
       "    </tr>\n",
       "  </tbody>\n",
       "</table>\n",
       "</div>"
      ],
      "text/plain": [
       "              category     n\n",
       "2        Other attacks  6611\n",
       "1  Assault and battery  1482\n",
       "3  Rally/demonstration   361\n",
       "4       Suspected case   286\n",
       "0         Arson attack   272"
      ]
     },
     "execution_count": 12,
     "metadata": {},
     "output_type": "execute_result"
    }
   ],
   "source": [
    "df_category = df.groupby('category').size().reset_index(name='n').sort_values('n', ascending=False)\n",
    "df_category"
   ]
  },
  {
   "cell_type": "code",
   "execution_count": 32,
   "metadata": {},
   "outputs": [
    {
     "data": {
      "image/png": "[encoded data removed]",
      "text/plain": [
       "<Figure size 432x288 with 1 Axes>"
      ]
     },
     "metadata": {
      "needs_background": "light"
     },
     "output_type": "display_data"
    }
   ],
   "source": [
    "# Define plot\n",
    "ax = plt.axes()\n",
    "sns.barplot(x='n', y='category', data=df_category, color='#0173b2')\n",
    "# Set grid lines\n",
    "ax.xaxis.grid(True)\n",
    "# Set labels\n",
    "plt.title('Attacks by category')\n",
    "plt.xlabel('')\n",
    "plt.ylabel('')\n",
    "# Turn axis ticks off\n",
    "ax.tick_params(axis=u'both', which=u'both',length=0)\n",
    "# Remove frame \n",
    "sns.despine(top=True, right=True, left=True, bottom=True);"
   ]
  },
  {
   "cell_type": "markdown",
   "metadata": {},
   "source": [
    "### Number of casualties"
   ]
  },
  {
   "cell_type": "markdown",
   "metadata": {},
   "source": [
    "Absolute numbers:"
   ]
  },
  {
   "cell_type": "code",
   "execution_count": 14,
   "metadata": {},
   "outputs": [
    {
     "data": {
      "text/plain": [
       "NaN     8401\n",
       "1.0      473\n",
       "2.0       88\n",
       "3.0       27\n",
       "4.0       12\n",
       "6.0        3\n",
       "5.0        3\n",
       "9.0        1\n",
       "35.0       1\n",
       "7.0        1\n",
       "20.0       1\n",
       "14.0       1\n",
       "Name: casualties, dtype: int64"
      ]
     },
     "execution_count": 14,
     "metadata": {},
     "output_type": "execute_result"
    }
   ],
   "source": [
    "df['casualties'].value_counts(dropna=False)"
   ]
  },
  {
   "cell_type": "markdown",
   "metadata": {},
   "source": [
    "Relative numbers:"
   ]
  },
  {
   "cell_type": "code",
   "execution_count": 15,
   "metadata": {},
   "outputs": [
    {
     "data": {
      "text/plain": [
       "NaN     0.932202\n",
       "1.0     0.052486\n",
       "2.0     0.009765\n",
       "3.0     0.002996\n",
       "4.0     0.001332\n",
       "6.0     0.000333\n",
       "5.0     0.000333\n",
       "9.0     0.000111\n",
       "35.0    0.000111\n",
       "7.0     0.000111\n",
       "20.0    0.000111\n",
       "14.0    0.000111\n",
       "Name: casualties, dtype: float64"
      ]
     },
     "execution_count": 15,
     "metadata": {},
     "output_type": "execute_result"
    }
   ],
   "source": [
    "df['casualties'].value_counts(normalize=True, dropna=False)"
   ]
  },
  {
   "cell_type": "markdown",
   "metadata": {},
   "source": [
    "By far most of the events do not involve any casualties (more than 90%). In around 5% of the events, 1 Person was injured. There are as well three events, in which more than 10 people suffered from injuries. Let's check which event correspond to the event with the highest number of casualties:"
   ]
  },
  {
   "cell_type": "code",
   "execution_count": null,
   "metadata": {},
   "outputs": [],
   "source": [
    "print(*df[df['casualties'] == 35]['description'])"
   ]
  },
  {
   "cell_type": "markdown",
   "metadata": {},
   "source": [
    "## Conclusion"
   ]
  },
  {
   "cell_type": "markdown",
   "metadata": {},
   "source": []
  }
 ],
 "metadata": {
  "kernelspec": {
   "display_name": "Python 3",
   "language": "python",
   "name": "python3"
  },
  "language_info": {
   "codemirror_mode": {
    "name": "ipython",
    "version": 3
   },
   "file_extension": ".py",
   "mimetype": "text/x-python",
   "name": "python",
   "nbconvert_exporter": "python",
   "pygments_lexer": "ipython3",
   "version": "3.6.7"
  }
 },
 "nbformat": 4,
 "nbformat_minor": 2
}
