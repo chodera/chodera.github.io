{
 "cells": [
  {
   "cell_type": "markdown",
   "metadata": {},
   "source": [
    "# Scraping \"Chronik flüchtlingsfeindlicher Vorfälle\""
   ]
  },
  {
   "cell_type": "markdown",
   "metadata": {},
   "source": [
    "## Setup"
   ]
  },
  {
   "cell_type": "markdown",
   "metadata": {},
   "source": [
    "Modules to be installed are numpy and pandas for handling the data, as well as requests-html for scraping the website."
   ]
  },
  {
   "cell_type": "code",
   "execution_count": 1,
   "metadata": {},
   "outputs": [],
   "source": [
    "%%capture\n",
    "import sys\n",
    "!{sys.executable} -m pip install numpy\n",
    "!{sys.executable} -m pip install pandas\n",
    "!{sys.executable} -m pip install requests-html\n",
    "!{sys.executable} -m pip install plotnine"
   ]
  },
  {
   "cell_type": "code",
   "execution_count": 2,
   "metadata": {},
   "outputs": [],
   "source": [
    "import numpy as np\n",
    "import pandas as pd\n",
    "from requests_html import HTMLSession"
   ]
  },
  {
   "cell_type": "markdown",
   "metadata": {},
   "source": [
    "## Prepare the scraper"
   ]
  },
  {
   "cell_type": "markdown",
   "metadata": {},
   "source": [
    "First thing to do is to establish a html session to the website."
   ]
  },
  {
   "cell_type": "code",
   "execution_count": 3,
   "metadata": {},
   "outputs": [],
   "source": [
    "session = HTMLSession()\n",
    "r = session.get('https://www.mut-gegen-rechte-gewalt.de/service/chronik-vorfaelle')"
   ]
  },
  {
   "cell_type": "markdown",
   "metadata": {},
   "source": [
    "Next, we define the urls to be scraped. In total, there are 903 sites, the first one without a suffix, later on with a suffix indicating the site number which makes it straightforward to set the full urls."
   ]
  },
  {
   "cell_type": "code",
   "execution_count": 4,
   "metadata": {},
   "outputs": [],
   "source": [
    "# Initialize lists\n",
    "suffixes = [''] \n",
    "urls = []\n",
    "\n",
    "# Set suffix of url\n",
    "for i in range(1, 902):\n",
    "    suffixes.append('?page=' + str(i))\n",
    "\n",
    "# Set full urls\n",
    "for suffix in suffixes:\n",
    "    urls.append('https://www.mut-gegen-rechte-gewalt.de/service/chronik-vorfaelle' + suffix)"
   ]
  },
  {
   "cell_type": "markdown",
   "metadata": {},
   "source": [
    "Let's print the first five urls to check if it worked out."
   ]
  },
  {
   "cell_type": "code",
   "execution_count": 5,
   "metadata": {},
   "outputs": [
    {
     "name": "stdout",
     "output_type": "stream",
     "text": [
      "https://www.mut-gegen-rechte-gewalt.de/service/chronik-vorfaelle\n",
      "https://www.mut-gegen-rechte-gewalt.de/service/chronik-vorfaelle?page=1\n",
      "https://www.mut-gegen-rechte-gewalt.de/service/chronik-vorfaelle?page=2\n",
      "https://www.mut-gegen-rechte-gewalt.de/service/chronik-vorfaelle?page=3\n",
      "https://www.mut-gegen-rechte-gewalt.de/service/chronik-vorfaelle?page=4\n"
     ]
    }
   ],
   "source": [
    "print(*urls[0:5], sep='\\n')"
   ]
  },
  {
   "cell_type": "markdown",
   "metadata": {},
   "source": [
    "The urls look fine, now we ready to launch the scraper. It loops over every entry and scrapes information on each of the respective fields. If there is no information on a variable in a certain entry, the value None is assigned."
   ]
  },
  {
   "cell_type": "code",
   "execution_count": 6,
   "metadata": {},
   "outputs": [],
   "source": [
    "data = []\n",
    "\n",
    "for n in urls:\n",
    "    \n",
    "    r = session.get(n)\n",
    "    \n",
    "    for element in r.html.find('.node-chronik-eintrag'):\n",
    "\n",
    "        if element.find('.field-name-field-date', first = True) == None:\n",
    "            date = None\n",
    "        else:\n",
    "            date = element.find('.field-name-field-date', first = True).text\n",
    "\n",
    "        if element.find('.field-name-field-art', first = True) == None:\n",
    "            category = None\n",
    "        else:\n",
    "            category = element.find('.field-name-field-art', first = True).text\n",
    "\n",
    "        if element.find('.field-name-field-anzahl-verletze', first = True) == None:\n",
    "            casualties = None \n",
    "        else:\n",
    "            casualties = element.find('.field-name-field-anzahl-verletze', first = True).text               \n",
    "\n",
    "        if element.find('.field-name-field-city', first = True) == None:\n",
    "            city = None \n",
    "        else:\n",
    "            city = element.find('.field-name-field-city', first = True).text\n",
    "\n",
    "        if element.find('.field-name-field-bundesland', first = True) == None:\n",
    "            bundesland = None        \n",
    "        else:\n",
    "            bundesland = element.find('.field-name-field-bundesland', first = True).text\n",
    "        \n",
    "        if element.find('a[href^=\"http\"]', first = True) == None:\n",
    "            source = None \n",
    "        else:\n",
    "            source = element.find('a[href^=\"http\"]', first = True).text\n",
    "        \n",
    "        if element.find('a[href^=\"http\"]', first = True) == None:\n",
    "            source_url = None \n",
    "        else:\n",
    "            source_url = element.find('a[href^=\"http\"]', first = True).links\n",
    "        \n",
    "        if element.find('.group-right', first = True) == None:\n",
    "            description = None  \n",
    "        else:\n",
    "            description = element.find('.group-right', first = True).text\n",
    "            \n",
    "        data.append({'date': date, \n",
    "                     'category': category, \n",
    "                     'casualties': casualties, \n",
    "                     'city': city, \n",
    "                     'bundesland': bundesland,\n",
    "                     'source': source, \n",
    "                     'source_url': source_url, \n",
    "                     'description': description})"
   ]
  },
  {
   "cell_type": "markdown",
   "metadata": {},
   "source": [
    "Let's print the first three records to take a look at the scraping output."
   ]
  },
  {
   "cell_type": "code",
   "execution_count": 7,
   "metadata": {},
   "outputs": [
    {
     "name": "stdout",
     "output_type": "stream",
     "text": [
      "{'date': '17.05.2019', 'category': 'Tätlicher Übergriff/Körperverletzung', 'casualties': '1Verletzte_r', 'city': 'Prenzlau', 'bundesland': 'Brandenburg', 'source': 'Nordkurier', 'source_url': {'https://www.nordkurier.de/uckermark/junge-maenner-in-prenzlau-randalieren-1935542005.html'}, 'description': 'Zwei Deutsche haben am Abend zunächst neben einer Asylunterkunft randaliert. Als Kinder, die in der Asylunterkunft leben, sie aufforderten, dies zu unterlassen, betraten die beiden 21- bzw. 23-Jährigen das Gelände der Unterkunft. Einer von ihnen zückte ein Messer und soll laut Polizei \"Stichbewegungen gegen einen tschetschenischen Bewohner ausgeführt haben. Bei der folgenden Rangelei verletzte sich der Tschetschene an der Hand, ein Deutscher erlitt Verletzungen am Bein und musste operiert werden\", so die Polizei weiter. Die Kriminalpolizei ermittelt.'}\n",
      "{'date': '04.05.2019', 'category': 'Tätlicher Übergriff/Körperverletzung', 'casualties': None, 'city': 'Querfurt', 'bundesland': 'Sachsen-Anhalt', 'source': 'Mitteldeutsche Zeitung', 'source_url': {'https://www.mz-web.de/saalekreis/staatsschutz-ermittelt-junger-syrer-rassistisch-beschimpft-und-attackiert-32472432'}, 'description': 'Ein 21-jähriger aus Syrien wurde in der Nacht aus einer Gruppe aus fünf oder sechs jungen Deutschen zunächst rassistisch beleidigt und dann auch geschlagen. Als ein 47-jähriger Zeuge dazwischengehen wollte, sollen ihn die Angreifer zurückgestoßen und am Fuß verletzt haben. Der 21-Jährige musste nicht behandelt werden. Die Täter flüchteten, der Staatsschutz ermittelt.'}\n",
      "{'date': '01.05.2019', 'category': 'Sonstige Angriffe', 'casualties': None, 'city': 'Kirchheim', 'bundesland': 'Hessen', 'source': 'Süddeutsche Zeitung', 'source_url': {'https://www.sueddeutsche.de/muenchen/staatsschutz-ermittelt-angriffe-auf-fluechtlinge-und-ein-drohbrief-1.4429977'}, 'description': 'Unbekannte haben in der Nacht Eier gegen die Fassade einer Asylunterkunft geworfen. Als ein Mitarbeiter des Sicherheitsdienstes die Täter ansprach, flüchteten sie.'}\n"
     ]
    }
   ],
   "source": [
    "print(*data[0:3], sep='\\n')"
   ]
  },
  {
   "cell_type": "markdown",
   "metadata": {},
   "source": [
    "## Turn into a dataframe and save as csv file"
   ]
  },
  {
   "cell_type": "markdown",
   "metadata": {},
   "source": [
    "We use pandas methods to turn the data records into a data frame and to save it as a csv file:"
   ]
  },
  {
   "cell_type": "code",
   "execution_count": 8,
   "metadata": {},
   "outputs": [],
   "source": [
    "cols = ['date', 'category', 'city', 'bundesland', 'casualties', 'description', 'source', 'source_url']\n",
    "df = pd.DataFrame.from_records(data, columns=cols)\n",
    "df.to_csv('data/mut_gegen_rechte_gewalt.csv', index=False)"
   ]
  }
 ],
 "metadata": {
  "kernelspec": {
   "display_name": "Python 3",
   "language": "python",
   "name": "python3"
  },
  "language_info": {
   "codemirror_mode": {
    "name": "ipython",
    "version": 3
   },
   "file_extension": ".py",
   "mimetype": "text/x-python",
   "name": "python",
   "nbconvert_exporter": "python",
   "pygments_lexer": "ipython3",
   "version": "3.6.7"
  }
 },
 "nbformat": 4,
 "nbformat_minor": 2
}
